{
 "cells": [
  {
   "cell_type": "markdown",
   "metadata": {},
   "source": [
    "<font color=blue> Привет еще раз. Спасибо, что доделал работу. Мои комментарии на этот раз выделены синим цветом.\n",
    "    \n",
    "---"
   ]
  },
  {
   "cell_type": "markdown",
   "metadata": {},
   "source": [
    "---\n",
    "## Комментарий от наставника\n",
    "\n",
    "Привет! Спасибо, что прислал задание:) В целом, работа производит неплохое впечатление, однако обрати внимание на некоторые мои комментарии. Они обозначены пометкой *Комментарий от наставника*. Пострайся учесть эти комментарии.\n",
    "\n",
    "---"
   ]
  },
  {
   "cell_type": "markdown",
   "metadata": {},
   "source": [
    "---\n",
    "## Комментарий от наставника\n",
    "\n",
    "\n",
    "В работе желательно делать некое вступление, описание самого проекта. Также необходимо приводить краткий план того, что надо сделать(если этот план имеется). Название работы лучше отображать в отдельной ячейке и делать крупный шрифт (заголовок). Так работа выглядит презентабельно.\n",
    "\n",
    "---"
   ]
  },
  {
   "cell_type": "markdown",
   "metadata": {},
   "source": [
    "## Определение перспективного тарифа для телекомкомпании"
   ]
  },
  {
   "cell_type": "markdown",
   "metadata": {},
   "source": [
    "Пользователям предлагают два тарифных плана: «Смарт» и «Ультра». Чтобы скорректировать рекламный бюджет, коммерческий департамент хочет понять, какой тариф приносит больше денег.\n",
    "Предстоит сделать предварительный анализ тарифов на небольшой выборке клиентов. Есть данные 500 пользователей «Мегалайна»: кто они, откуда, каким тарифом пользуются, сколько звонков и сообщений каждый отправил за 2018 год. Нужно проанализировать поведение клиентов и сделать вывод — какой тариф лучше."
   ]
  },
  {
   "cell_type": "markdown",
   "metadata": {},
   "source": [
    "План анализа:\n",
    " - загрузить таблицы\n",
    " - провести анализ этих таблиц (что за данные, какие типы данных, сколько столбцов и строк), определить проблемы с данными.\n",
    " - провести предобработку данных\n",
    " - поменять типы данных\n",
    " - согласно условиям оператора округляем время звонков и интернета за большего целого\n",
    " - добавить столбец с месяцем, когда производился звонок, отправлялась смс и был выход в интернет\n",
    " - формируем единую таблицу по месяцам и звонков, интернета и смс\n",
    " - пишем функцию, которая считаем прибыль по месяцам\n",
    " - формируем таблицы с тарифами\n",
    " - считаем дисперсию, стандартное отклонение, среднее по каждому показателю\n",
    " - строим графики зависимости двух тарифов по всем показателям\n",
    " - анализ графиков\n",
    " - строим гипотезу различия двух тарифов\n",
    " - строим гипотезу различия среднего в Москве и в других районах\n",
    " - итоговый вывод"
   ]
  },
  {
   "cell_type": "code",
   "execution_count": 1,
   "metadata": {},
   "outputs": [],
   "source": [
    "import pandas as pd\n",
    "import numpy as np\n",
    "from scipy import stats as st\n",
    "import matplotlib.pyplot as plt # импортирую библиотеку matplotlib.pyplot\n",
    "import seaborn as sns"
   ]
  },
  {
   "cell_type": "code",
   "execution_count": 2,
   "metadata": {},
   "outputs": [],
   "source": [
    "data_calls=pd.read_csv('/datasets/calls.csv') # записываем дата фрэйм звонков в data_call из файла"
   ]
  },
  {
   "cell_type": "code",
   "execution_count": 3,
   "metadata": {},
   "outputs": [
    {
     "name": "stdout",
     "output_type": "stream",
     "text": [
      "<class 'pandas.core.frame.DataFrame'>\n",
      "RangeIndex: 202607 entries, 0 to 202606\n",
      "Data columns (total 4 columns):\n",
      "id           202607 non-null object\n",
      "call_date    202607 non-null object\n",
      "duration     202607 non-null float64\n",
      "user_id      202607 non-null int64\n",
      "dtypes: float64(1), int64(1), object(2)\n",
      "memory usage: 6.2+ MB\n"
     ]
    }
   ],
   "source": [
    "data_calls.info() "
   ]
  },
  {
   "cell_type": "markdown",
   "metadata": {},
   "source": [
    "Data_call-это дата с звонками всех пользователей. Состоит из 4 столбцов и 202607 строк. Пропущенных значений нет."
   ]
  },
  {
   "cell_type": "code",
   "execution_count": 4,
   "metadata": {},
   "outputs": [
    {
     "data": {
      "text/html": [
       "<div>\n",
       "<style scoped>\n",
       "    .dataframe tbody tr th:only-of-type {\n",
       "        vertical-align: middle;\n",
       "    }\n",
       "\n",
       "    .dataframe tbody tr th {\n",
       "        vertical-align: top;\n",
       "    }\n",
       "\n",
       "    .dataframe thead th {\n",
       "        text-align: right;\n",
       "    }\n",
       "</style>\n",
       "<table border=\"1\" class=\"dataframe\">\n",
       "  <thead>\n",
       "    <tr style=\"text-align: right;\">\n",
       "      <th></th>\n",
       "      <th>id</th>\n",
       "      <th>call_date</th>\n",
       "      <th>duration</th>\n",
       "      <th>user_id</th>\n",
       "    </tr>\n",
       "  </thead>\n",
       "  <tbody>\n",
       "    <tr>\n",
       "      <td>0</td>\n",
       "      <td>1000_0</td>\n",
       "      <td>2018-07-25</td>\n",
       "      <td>0.00</td>\n",
       "      <td>1000</td>\n",
       "    </tr>\n",
       "    <tr>\n",
       "      <td>1</td>\n",
       "      <td>1000_1</td>\n",
       "      <td>2018-08-17</td>\n",
       "      <td>0.00</td>\n",
       "      <td>1000</td>\n",
       "    </tr>\n",
       "    <tr>\n",
       "      <td>2</td>\n",
       "      <td>1000_2</td>\n",
       "      <td>2018-06-11</td>\n",
       "      <td>2.85</td>\n",
       "      <td>1000</td>\n",
       "    </tr>\n",
       "    <tr>\n",
       "      <td>3</td>\n",
       "      <td>1000_3</td>\n",
       "      <td>2018-09-21</td>\n",
       "      <td>13.80</td>\n",
       "      <td>1000</td>\n",
       "    </tr>\n",
       "    <tr>\n",
       "      <td>4</td>\n",
       "      <td>1000_4</td>\n",
       "      <td>2018-12-15</td>\n",
       "      <td>5.18</td>\n",
       "      <td>1000</td>\n",
       "    </tr>\n",
       "  </tbody>\n",
       "</table>\n",
       "</div>"
      ],
      "text/plain": [
       "       id   call_date  duration  user_id\n",
       "0  1000_0  2018-07-25      0.00     1000\n",
       "1  1000_1  2018-08-17      0.00     1000\n",
       "2  1000_2  2018-06-11      2.85     1000\n",
       "3  1000_3  2018-09-21     13.80     1000\n",
       "4  1000_4  2018-12-15      5.18     1000"
      ]
     },
     "execution_count": 4,
     "metadata": {},
     "output_type": "execute_result"
    }
   ],
   "source": [
    "data_calls.head()"
   ]
  },
  {
   "cell_type": "code",
   "execution_count": 5,
   "metadata": {},
   "outputs": [
    {
     "name": "stdout",
     "output_type": "stream",
     "text": [
      "<class 'pandas.core.frame.DataFrame'>\n",
      "RangeIndex: 149396 entries, 0 to 149395\n",
      "Data columns (total 4 columns):\n",
      "id              149396 non-null object\n",
      "mb_used         149396 non-null float64\n",
      "session_date    149396 non-null object\n",
      "user_id         149396 non-null int64\n",
      "dtypes: float64(1), int64(1), object(2)\n",
      "memory usage: 4.6+ MB\n"
     ]
    }
   ],
   "source": [
    "data_internet=pd.read_csv('/datasets/internet.csv') # записываем дата фрэйм использования интернета в data_internet из файла\n",
    "data_internet.info()"
   ]
  },
  {
   "cell_type": "markdown",
   "metadata": {},
   "source": [
    "Data_internet-это дата с звонками всех пользователей. Состоит из 4 столбцов и 149396 строк. Пропущенных значений нет."
   ]
  },
  {
   "cell_type": "code",
   "execution_count": 6,
   "metadata": {},
   "outputs": [
    {
     "name": "stdout",
     "output_type": "stream",
     "text": [
      "<class 'pandas.core.frame.DataFrame'>\n",
      "RangeIndex: 123036 entries, 0 to 123035\n",
      "Data columns (total 3 columns):\n",
      "id              123036 non-null object\n",
      "message_date    123036 non-null object\n",
      "user_id         123036 non-null int64\n",
      "dtypes: int64(1), object(2)\n",
      "memory usage: 2.8+ MB\n"
     ]
    }
   ],
   "source": [
    "data_messages=pd.read_csv('/datasets/messages.csv') # записываем дата фрэйм использования сообщений в data_messages из файла\n",
    "data_messages.info()"
   ]
  },
  {
   "cell_type": "markdown",
   "metadata": {},
   "source": [
    "Data_messages-это дата с использованными сообщениями всех пользователей. Состоит из 3 столбцов и 123036 строк. Пропущенных значений нет."
   ]
  },
  {
   "cell_type": "code",
   "execution_count": 7,
   "metadata": {},
   "outputs": [
    {
     "data": {
      "text/html": [
       "<div>\n",
       "<style scoped>\n",
       "    .dataframe tbody tr th:only-of-type {\n",
       "        vertical-align: middle;\n",
       "    }\n",
       "\n",
       "    .dataframe tbody tr th {\n",
       "        vertical-align: top;\n",
       "    }\n",
       "\n",
       "    .dataframe thead th {\n",
       "        text-align: right;\n",
       "    }\n",
       "</style>\n",
       "<table border=\"1\" class=\"dataframe\">\n",
       "  <thead>\n",
       "    <tr style=\"text-align: right;\">\n",
       "      <th></th>\n",
       "      <th>id</th>\n",
       "      <th>message_date</th>\n",
       "      <th>user_id</th>\n",
       "    </tr>\n",
       "  </thead>\n",
       "  <tbody>\n",
       "    <tr>\n",
       "      <td>0</td>\n",
       "      <td>1000_0</td>\n",
       "      <td>2018-06-27</td>\n",
       "      <td>1000</td>\n",
       "    </tr>\n",
       "    <tr>\n",
       "      <td>1</td>\n",
       "      <td>1000_1</td>\n",
       "      <td>2018-10-08</td>\n",
       "      <td>1000</td>\n",
       "    </tr>\n",
       "    <tr>\n",
       "      <td>2</td>\n",
       "      <td>1000_2</td>\n",
       "      <td>2018-08-04</td>\n",
       "      <td>1000</td>\n",
       "    </tr>\n",
       "  </tbody>\n",
       "</table>\n",
       "</div>"
      ],
      "text/plain": [
       "       id message_date  user_id\n",
       "0  1000_0   2018-06-27     1000\n",
       "1  1000_1   2018-10-08     1000\n",
       "2  1000_2   2018-08-04     1000"
      ]
     },
     "execution_count": 7,
     "metadata": {},
     "output_type": "execute_result"
    }
   ],
   "source": [
    "data_messages.head(3)"
   ]
  },
  {
   "cell_type": "code",
   "execution_count": 8,
   "metadata": {},
   "outputs": [
    {
     "name": "stdout",
     "output_type": "stream",
     "text": [
      "<class 'pandas.core.frame.DataFrame'>\n",
      "RangeIndex: 2 entries, 0 to 1\n",
      "Data columns (total 8 columns):\n",
      "messages_included        2 non-null int64\n",
      "mg_per_month_included    2 non-null int64\n",
      "minutes_included         2 non-null int64\n",
      "rub_monthly_fee          2 non-null int64\n",
      "rub_per_gb               2 non-null int64\n",
      "rub_per_message          2 non-null int64\n",
      "rub_per_minute           2 non-null int64\n",
      "tariff_name              2 non-null object\n",
      "dtypes: int64(7), object(1)\n",
      "memory usage: 256.0+ bytes\n"
     ]
    }
   ],
   "source": [
    "data_tariffs=pd.read_csv('/datasets/tariffs.csv') # записываем дата фрэйм о тарифах в data_tariffs из файла\n",
    "data_tariffs.info()"
   ]
  },
  {
   "cell_type": "markdown",
   "metadata": {},
   "source": [
    "Data_tariffs-это дата с информацией о тарифах. Состоит из 8 столбцов и 2 строк. Пропущенных значений нет."
   ]
  },
  {
   "cell_type": "code",
   "execution_count": 9,
   "metadata": {},
   "outputs": [
    {
     "name": "stdout",
     "output_type": "stream",
     "text": [
      "<class 'pandas.core.frame.DataFrame'>\n",
      "RangeIndex: 500 entries, 0 to 499\n",
      "Data columns (total 8 columns):\n",
      "user_id       500 non-null int64\n",
      "age           500 non-null int64\n",
      "churn_date    38 non-null object\n",
      "city          500 non-null object\n",
      "first_name    500 non-null object\n",
      "last_name     500 non-null object\n",
      "reg_date      500 non-null object\n",
      "tariff        500 non-null object\n",
      "dtypes: int64(2), object(6)\n",
      "memory usage: 31.4+ KB\n"
     ]
    }
   ],
   "source": [
    "data_users=pd.read_csv('/datasets/users.csv')# записываем дата фрэйм информацию о пользователях в data_users из файла\n",
    "data_users.info()"
   ]
  },
  {
   "cell_type": "code",
   "execution_count": 10,
   "metadata": {},
   "outputs": [
    {
     "data": {
      "text/plain": [
       "user_id         0\n",
       "age             0\n",
       "churn_date    462\n",
       "city            0\n",
       "first_name      0\n",
       "last_name       0\n",
       "reg_date        0\n",
       "tariff          0\n",
       "dtype: int64"
      ]
     },
     "execution_count": 10,
     "metadata": {},
     "output_type": "execute_result"
    }
   ],
   "source": [
    "data_users.isna().sum()"
   ]
  },
  {
   "cell_type": "markdown",
   "metadata": {},
   "source": [
    "Data_users-это дата с информацией о пользователях. Состоит из 8 столбцов и 500 строк. Пропущенные значения есть. У столбца churn_date есть 462 пропуска.Это столбец с датой прекращения пользования тарифом (если значение пропущено, то тариф ещё действовал на момент выгрузки данных). В полследствии можно заменить на 0"
   ]
  },
  {
   "cell_type": "markdown",
   "metadata": {},
   "source": [
    "Таблица users (информация о пользователях):\n",
    "\n",
    "    user_id — уникальный идентификатор пользователя\n",
    "    first_name — имя пользователя\n",
    "    last_name — фамилия пользователя\n",
    "    age — возраст пользователя (годы)\n",
    "    reg_date — дата подключения тарифа (день, месяц, год)\n",
    "    churn_date — дата прекращения пользования тарифом (если значение пропущено, то тариф ещё действовал на момент выгрузки данных)\n",
    "    city — город проживания пользователя\n",
    "    tariff — название тарифного плана\n",
    "\n",
    "Таблица calls (информация о звонках):\n",
    "\n",
    "    id — уникальный номер звонка\n",
    "    call_date — дата звонка\n",
    "    duration — длительность звонка в минутах\n",
    "    user_id — идентификатор пользователя, сделавшего звонок\n",
    "\n",
    "Таблица messages (информация о сообщениях):\n",
    "\n",
    "    id — уникальный номер сообщения\n",
    "    message_date — дата сообщения\n",
    "    user_id — идентификатор пользователя, отправившего сообщение\n",
    "\n",
    "Таблица internet (информация об интернет-сессиях):\n",
    "\n",
    "    id — уникальный номер сессии\n",
    "    mb_used — объём потраченного за сессию интернет-трафика (в мегабайтах)\n",
    "    session_date — дата интернет-сессии\n",
    "    user_id — идентификатор пользователя\n",
    "\n",
    "Таблица tariffs (информация о тарифах):\n",
    "\n",
    "    tariff_name — название тарифа\n",
    "    rub_monthly_fee — ежемесячная абонентская плата в рублях\n",
    "    minutes_included — количество минут разговора в месяц, включённых в абонентскую плату\n",
    "    messages_included — количество сообщений в месяц, включённых в абонентскую плату\n",
    "    mb_per_month_included — объём интернет-трафика, включённого в абонентскую плату (в мегабайтах)\n",
    "    rub_per_minute — стоимость минуты разговора сверх тарифного пакета (например, если в тарифе 100 минут разговора в месяц, то со 101 минуты будет взиматься плата)\n",
    "    rub_per_message — стоимость отправки сообщения сверх тарифного пакета\n",
    "    rub_per_gb — стоимость дополнительного гигабайта интернет-трафика сверх тарифного пакета (1 гигабайт = 1024 мегабайта)"
   ]
  },
  {
   "cell_type": "markdown",
   "metadata": {},
   "source": [
    "---\n",
    "## Комментарий от наставника\n",
    "\n",
    "\n",
    "Первый взгляд на данные выполнен. Стоит описать все проблемы в данных и то, как их исправить.\n",
    "\n",
    "---"
   ]
  },
  {
   "cell_type": "markdown",
   "metadata": {},
   "source": [
    "Есть проблемы в данных. Надо менять типы данных в датах. Вещественный тип в звонках, потреблении интернета и кл-ве смс переведем в целочисленный. Присутствуют пропуски в churn_date. Есть смысл их просто поменять на 0(значит смены оператора не было). В соответствии требования оператора округлить длительность звонка и потребление интернета до целого большего."
   ]
  },
  {
   "cell_type": "markdown",
   "metadata": {},
   "source": [
    "## Предобработка данных"
   ]
  },
  {
   "cell_type": "markdown",
   "metadata": {},
   "source": [
    "Во всех столбцах где есть дата меняем тип на date_time"
   ]
  },
  {
   "cell_type": "code",
   "execution_count": 11,
   "metadata": {},
   "outputs": [],
   "source": [
    "data_calls['call_date']=pd.to_datetime(data_calls['call_date'],format='%Y-%m-%d')"
   ]
  },
  {
   "cell_type": "markdown",
   "metadata": {},
   "source": [
    "Значения потраченных минут переводим в целоцисленные"
   ]
  },
  {
   "cell_type": "code",
   "execution_count": 12,
   "metadata": {},
   "outputs": [],
   "source": [
    "data_messages['message_date']=pd.to_datetime(data_messages['message_date'],format='%Y-%m-%d %H:%M:%S')"
   ]
  },
  {
   "cell_type": "markdown",
   "metadata": {},
   "source": [
    "Значения потраченных mb переводим в целочисленные и вверх до целого большего"
   ]
  },
  {
   "cell_type": "code",
   "execution_count": 13,
   "metadata": {},
   "outputs": [],
   "source": [
    "data_internet['mb_used']=round(data_internet['mb_used'].astype('int64')+0.45)# округляю количество мб до целого большего"
   ]
  },
  {
   "cell_type": "code",
   "execution_count": 14,
   "metadata": {},
   "outputs": [
    {
     "data": {
      "text/plain": [
       "0.0       19699\n",
       "332.0       231\n",
       "381.0       229\n",
       "252.0       222\n",
       "376.0       222\n",
       "          ...  \n",
       "1498.0        1\n",
       "1524.0        1\n",
       "1454.0        1\n",
       "1397.0        1\n",
       "1441.0        1\n",
       "Name: mb_used, Length: 1421, dtype: int64"
      ]
     },
     "execution_count": 14,
     "metadata": {},
     "output_type": "execute_result"
    }
   ],
   "source": [
    "data_internet['mb_used'].value_counts()"
   ]
  },
  {
   "cell_type": "markdown",
   "metadata": {},
   "source": [
    "---\n",
    "## Комментарий от наставника\n",
    "\n",
    "По условию задания округлять все значения надо вверх.\n",
    "\n",
    "---"
   ]
  },
  {
   "cell_type": "code",
   "execution_count": 15,
   "metadata": {},
   "outputs": [],
   "source": [
    "data_calls=data_calls.query('duration>0') #Избавился от 0. Возможно это недозвоны"
   ]
  },
  {
   "cell_type": "code",
   "execution_count": 16,
   "metadata": {},
   "outputs": [],
   "source": [
    "data_calls['duration']=round(data_calls['duration']+0.45) # все значение меньше 1 округляем до большего целого"
   ]
  },
  {
   "cell_type": "markdown",
   "metadata": {},
   "source": [
    "<font color=blue> Для округления вверх есть метод ceil().\n",
    "    \n",
    "---"
   ]
  },
  {
   "cell_type": "code",
   "execution_count": 17,
   "metadata": {},
   "outputs": [
    {
     "data": {
      "text/plain": [
       "6.0     11561\n",
       "7.0     11403\n",
       "8.0     11361\n",
       "5.0     11323\n",
       "4.0     11070\n",
       "9.0     10839\n",
       "10.0    10308\n",
       "3.0     10267\n",
       "2.0      9353\n",
       "11.0     9166\n",
       "12.0     8555\n",
       "1.0      8314\n",
       "13.0     7346\n",
       "14.0     6562\n",
       "15.0     5385\n",
       "16.0     4569\n",
       "17.0     3593\n",
       "18.0     3009\n",
       "19.0     2345\n",
       "20.0     1814\n",
       "21.0     1264\n",
       "22.0      976\n",
       "23.0      704\n",
       "24.0      464\n",
       "0.0       427\n",
       "25.0      357\n",
       "26.0      246\n",
       "27.0      146\n",
       "28.0      105\n",
       "29.0       52\n",
       "30.0       40\n",
       "31.0       31\n",
       "32.0       16\n",
       "33.0        9\n",
       "35.0        4\n",
       "34.0        4\n",
       "36.0        2\n",
       "37.0        2\n",
       "38.0        2\n",
       "Name: duration, dtype: int64"
      ]
     },
     "execution_count": 17,
     "metadata": {},
     "output_type": "execute_result"
    }
   ],
   "source": [
    "data_calls['duration'].value_counts()"
   ]
  },
  {
   "cell_type": "code",
   "execution_count": 18,
   "metadata": {},
   "outputs": [],
   "source": [
    "data_internet['session_date']=pd.to_datetime(data_internet['session_date'],format='%Y-%m-%d')"
   ]
  },
  {
   "cell_type": "code",
   "execution_count": 19,
   "metadata": {},
   "outputs": [],
   "source": [
    "data_users['churn_date']=pd.to_datetime(data_users['churn_date'],format='%Y-%m-%d')"
   ]
  },
  {
   "cell_type": "code",
   "execution_count": 20,
   "metadata": {},
   "outputs": [],
   "source": [
    "data_users['reg_date']=pd.to_datetime(data_users['reg_date'],format='%Y-%m-%d')"
   ]
  },
  {
   "cell_type": "code",
   "execution_count": 21,
   "metadata": {},
   "outputs": [
    {
     "data": {
      "text/plain": [
       "<matplotlib.axes._subplots.AxesSubplot at 0x7fd33f168940>"
      ]
     },
     "execution_count": 21,
     "metadata": {},
     "output_type": "execute_result"
    },
    {
     "data": {
      "image/png": "[encoded data removed]",
      "text/plain": [
       "<Figure size 432x288 with 1 Axes>"
      ]
     },
     "metadata": {
      "needs_background": "light"
     },
     "output_type": "display_data"
    }
   ],
   "source": [
    "data_calls['duration'].hist(bins=30) # строю гист. всех звонков"
   ]
  },
  {
   "cell_type": "markdown",
   "metadata": {},
   "source": [
    "По гистограмме видно, что больше всего звонков около 5 и 9 мин"
   ]
  },
  {
   "cell_type": "code",
   "execution_count": 22,
   "metadata": {},
   "outputs": [],
   "source": [
    "data_calls['month']=data_calls['call_date'].dt.month"
   ]
  },
  {
   "cell_type": "code",
   "execution_count": 23,
   "metadata": {},
   "outputs": [],
   "source": [
    "group_calls=data_calls.pivot_table(index=['month','user_id'],values='duration',aggfunc=('sum'))"
   ]
  },
  {
   "cell_type": "markdown",
   "metadata": {},
   "source": [
    "Делаю сводную по месяцам и звонкам"
   ]
  },
  {
   "cell_type": "code",
   "execution_count": 24,
   "metadata": {},
   "outputs": [
    {
     "data": {
      "text/html": [
       "<div>\n",
       "<style scoped>\n",
       "    .dataframe tbody tr th:only-of-type {\n",
       "        vertical-align: middle;\n",
       "    }\n",
       "\n",
       "    .dataframe tbody tr th {\n",
       "        vertical-align: top;\n",
       "    }\n",
       "\n",
       "    .dataframe thead th {\n",
       "        text-align: right;\n",
       "    }\n",
       "</style>\n",
       "<table border=\"1\" class=\"dataframe\">\n",
       "  <thead>\n",
       "    <tr style=\"text-align: right;\">\n",
       "      <th></th>\n",
       "      <th></th>\n",
       "      <th>duration</th>\n",
       "    </tr>\n",
       "    <tr>\n",
       "      <th>month</th>\n",
       "      <th>user_id</th>\n",
       "      <th></th>\n",
       "    </tr>\n",
       "  </thead>\n",
       "  <tbody>\n",
       "    <tr>\n",
       "      <td rowspan=\"5\" valign=\"top\">1</td>\n",
       "      <td>1005</td>\n",
       "      <td>95.0</td>\n",
       "    </tr>\n",
       "    <tr>\n",
       "      <td>1032</td>\n",
       "      <td>379.0</td>\n",
       "    </tr>\n",
       "    <tr>\n",
       "      <td>1045</td>\n",
       "      <td>9.0</td>\n",
       "    </tr>\n",
       "    <tr>\n",
       "      <td>1055</td>\n",
       "      <td>548.0</td>\n",
       "    </tr>\n",
       "    <tr>\n",
       "      <td>1071</td>\n",
       "      <td>193.0</td>\n",
       "    </tr>\n",
       "    <tr>\n",
       "      <td>...</td>\n",
       "      <td>...</td>\n",
       "      <td>...</td>\n",
       "    </tr>\n",
       "    <tr>\n",
       "      <td rowspan=\"5\" valign=\"top\">12</td>\n",
       "      <td>1494</td>\n",
       "      <td>413.0</td>\n",
       "    </tr>\n",
       "    <tr>\n",
       "      <td>1495</td>\n",
       "      <td>1025.0</td>\n",
       "    </tr>\n",
       "    <tr>\n",
       "      <td>1496</td>\n",
       "      <td>516.0</td>\n",
       "    </tr>\n",
       "    <tr>\n",
       "      <td>1497</td>\n",
       "      <td>545.0</td>\n",
       "    </tr>\n",
       "    <tr>\n",
       "      <td>1499</td>\n",
       "      <td>490.0</td>\n",
       "    </tr>\n",
       "  </tbody>\n",
       "</table>\n",
       "<p>3168 rows × 1 columns</p>\n",
       "</div>"
      ],
      "text/plain": [
       "               duration\n",
       "month user_id          \n",
       "1     1005         95.0\n",
       "      1032        379.0\n",
       "      1045          9.0\n",
       "      1055        548.0\n",
       "      1071        193.0\n",
       "...                 ...\n",
       "12    1494        413.0\n",
       "      1495       1025.0\n",
       "      1496        516.0\n",
       "      1497        545.0\n",
       "      1499        490.0\n",
       "\n",
       "[3168 rows x 1 columns]"
      ]
     },
     "execution_count": 24,
     "metadata": {},
     "output_type": "execute_result"
    }
   ],
   "source": [
    "group_calls"
   ]
  },
  {
   "cell_type": "code",
   "execution_count": 25,
   "metadata": {},
   "outputs": [],
   "source": [
    "data_messages['month']=data_messages['message_date'].dt.month # добавляю столбец месяц"
   ]
  },
  {
   "cell_type": "code",
   "execution_count": 26,
   "metadata": {},
   "outputs": [],
   "source": [
    "group_messages=data_messages.pivot_table(index=['month','user_id'],values='message_date',aggfunc=('count'))"
   ]
  },
  {
   "cell_type": "markdown",
   "metadata": {},
   "source": [
    "Делаю сводную по месяцам и сообщениям"
   ]
  },
  {
   "cell_type": "code",
   "execution_count": 27,
   "metadata": {},
   "outputs": [
    {
     "data": {
      "text/html": [
       "<div>\n",
       "<style scoped>\n",
       "    .dataframe tbody tr th:only-of-type {\n",
       "        vertical-align: middle;\n",
       "    }\n",
       "\n",
       "    .dataframe tbody tr th {\n",
       "        vertical-align: top;\n",
       "    }\n",
       "\n",
       "    .dataframe thead th {\n",
       "        text-align: right;\n",
       "    }\n",
       "</style>\n",
       "<table border=\"1\" class=\"dataframe\">\n",
       "  <thead>\n",
       "    <tr style=\"text-align: right;\">\n",
       "      <th></th>\n",
       "      <th></th>\n",
       "      <th>message_date</th>\n",
       "    </tr>\n",
       "    <tr>\n",
       "      <th>month</th>\n",
       "      <th>user_id</th>\n",
       "      <th></th>\n",
       "    </tr>\n",
       "  </thead>\n",
       "  <tbody>\n",
       "    <tr>\n",
       "      <td rowspan=\"5\" valign=\"top\">1</td>\n",
       "      <td>1005</td>\n",
       "      <td>7</td>\n",
       "    </tr>\n",
       "    <tr>\n",
       "      <td>1032</td>\n",
       "      <td>38</td>\n",
       "    </tr>\n",
       "    <tr>\n",
       "      <td>1045</td>\n",
       "      <td>5</td>\n",
       "    </tr>\n",
       "    <tr>\n",
       "      <td>1055</td>\n",
       "      <td>30</td>\n",
       "    </tr>\n",
       "    <tr>\n",
       "      <td>1071</td>\n",
       "      <td>16</td>\n",
       "    </tr>\n",
       "    <tr>\n",
       "      <td>...</td>\n",
       "      <td>...</td>\n",
       "      <td>...</td>\n",
       "    </tr>\n",
       "    <tr>\n",
       "      <td rowspan=\"5\" valign=\"top\">12</td>\n",
       "      <td>1493</td>\n",
       "      <td>78</td>\n",
       "    </tr>\n",
       "    <tr>\n",
       "      <td>1495</td>\n",
       "      <td>84</td>\n",
       "    </tr>\n",
       "    <tr>\n",
       "      <td>1496</td>\n",
       "      <td>51</td>\n",
       "    </tr>\n",
       "    <tr>\n",
       "      <td>1497</td>\n",
       "      <td>17</td>\n",
       "    </tr>\n",
       "    <tr>\n",
       "      <td>1499</td>\n",
       "      <td>66</td>\n",
       "    </tr>\n",
       "  </tbody>\n",
       "</table>\n",
       "<p>2717 rows × 1 columns</p>\n",
       "</div>"
      ],
      "text/plain": [
       "               message_date\n",
       "month user_id              \n",
       "1     1005                7\n",
       "      1032               38\n",
       "      1045                5\n",
       "      1055               30\n",
       "      1071               16\n",
       "...                     ...\n",
       "12    1493               78\n",
       "      1495               84\n",
       "      1496               51\n",
       "      1497               17\n",
       "      1499               66\n",
       "\n",
       "[2717 rows x 1 columns]"
      ]
     },
     "execution_count": 27,
     "metadata": {},
     "output_type": "execute_result"
    }
   ],
   "source": [
    "group_messages"
   ]
  },
  {
   "cell_type": "code",
   "execution_count": 28,
   "metadata": {},
   "outputs": [],
   "source": [
    "group_messages_call=group_messages.merge(group_calls,on=['user_id','month'],how='outer') # объединяю таблицу звонки и сообщения "
   ]
  },
  {
   "cell_type": "code",
   "execution_count": 29,
   "metadata": {},
   "outputs": [
    {
     "data": {
      "text/html": [
       "<div>\n",
       "<style scoped>\n",
       "    .dataframe tbody tr th:only-of-type {\n",
       "        vertical-align: middle;\n",
       "    }\n",
       "\n",
       "    .dataframe tbody tr th {\n",
       "        vertical-align: top;\n",
       "    }\n",
       "\n",
       "    .dataframe thead th {\n",
       "        text-align: right;\n",
       "    }\n",
       "</style>\n",
       "<table border=\"1\" class=\"dataframe\">\n",
       "  <thead>\n",
       "    <tr style=\"text-align: right;\">\n",
       "      <th></th>\n",
       "      <th></th>\n",
       "      <th>message_date</th>\n",
       "      <th>duration</th>\n",
       "    </tr>\n",
       "    <tr>\n",
       "      <th>user_id</th>\n",
       "      <th>month</th>\n",
       "      <th></th>\n",
       "      <th></th>\n",
       "    </tr>\n",
       "  </thead>\n",
       "  <tbody>\n",
       "    <tr>\n",
       "      <td>1005</td>\n",
       "      <td>1</td>\n",
       "      <td>7.0</td>\n",
       "      <td>95.0</td>\n",
       "    </tr>\n",
       "    <tr>\n",
       "      <td>1032</td>\n",
       "      <td>1</td>\n",
       "      <td>38.0</td>\n",
       "      <td>379.0</td>\n",
       "    </tr>\n",
       "    <tr>\n",
       "      <td>1045</td>\n",
       "      <td>1</td>\n",
       "      <td>5.0</td>\n",
       "      <td>9.0</td>\n",
       "    </tr>\n",
       "    <tr>\n",
       "      <td>1055</td>\n",
       "      <td>1</td>\n",
       "      <td>30.0</td>\n",
       "      <td>548.0</td>\n",
       "    </tr>\n",
       "    <tr>\n",
       "      <td>1071</td>\n",
       "      <td>1</td>\n",
       "      <td>16.0</td>\n",
       "      <td>193.0</td>\n",
       "    </tr>\n",
       "    <tr>\n",
       "      <td>...</td>\n",
       "      <td>...</td>\n",
       "      <td>...</td>\n",
       "      <td>...</td>\n",
       "    </tr>\n",
       "    <tr>\n",
       "      <td>1462</td>\n",
       "      <td>12</td>\n",
       "      <td>NaN</td>\n",
       "      <td>876.0</td>\n",
       "    </tr>\n",
       "    <tr>\n",
       "      <td>1466</td>\n",
       "      <td>12</td>\n",
       "      <td>NaN</td>\n",
       "      <td>657.0</td>\n",
       "    </tr>\n",
       "    <tr>\n",
       "      <td>1469</td>\n",
       "      <td>12</td>\n",
       "      <td>NaN</td>\n",
       "      <td>635.0</td>\n",
       "    </tr>\n",
       "    <tr>\n",
       "      <td>1479</td>\n",
       "      <td>12</td>\n",
       "      <td>NaN</td>\n",
       "      <td>573.0</td>\n",
       "    </tr>\n",
       "    <tr>\n",
       "      <td>1494</td>\n",
       "      <td>12</td>\n",
       "      <td>NaN</td>\n",
       "      <td>413.0</td>\n",
       "    </tr>\n",
       "  </tbody>\n",
       "</table>\n",
       "<p>3212 rows × 2 columns</p>\n",
       "</div>"
      ],
      "text/plain": [
       "               message_date  duration\n",
       "user_id month                        \n",
       "1005    1               7.0      95.0\n",
       "1032    1              38.0     379.0\n",
       "1045    1               5.0       9.0\n",
       "1055    1              30.0     548.0\n",
       "1071    1              16.0     193.0\n",
       "...                     ...       ...\n",
       "1462    12              NaN     876.0\n",
       "1466    12              NaN     657.0\n",
       "1469    12              NaN     635.0\n",
       "1479    12              NaN     573.0\n",
       "1494    12              NaN     413.0\n",
       "\n",
       "[3212 rows x 2 columns]"
      ]
     },
     "execution_count": 29,
     "metadata": {},
     "output_type": "execute_result"
    }
   ],
   "source": [
    "group_messages_call"
   ]
  },
  {
   "cell_type": "code",
   "execution_count": 30,
   "metadata": {},
   "outputs": [],
   "source": [
    "data_internet['month']=data_internet['session_date'].dt.month # добавляю столбец месяц"
   ]
  },
  {
   "cell_type": "code",
   "execution_count": 31,
   "metadata": {},
   "outputs": [],
   "source": [
    "group_internet=data_internet.pivot_table(index=['month','user_id'],values='mb_used',aggfunc=('sum'))"
   ]
  },
  {
   "cell_type": "markdown",
   "metadata": {},
   "source": [
    "Делаю срез по месяцам и интернета"
   ]
  },
  {
   "cell_type": "code",
   "execution_count": 32,
   "metadata": {},
   "outputs": [
    {
     "data": {
      "text/html": [
       "<div>\n",
       "<style scoped>\n",
       "    .dataframe tbody tr th:only-of-type {\n",
       "        vertical-align: middle;\n",
       "    }\n",
       "\n",
       "    .dataframe tbody tr th {\n",
       "        vertical-align: top;\n",
       "    }\n",
       "\n",
       "    .dataframe thead th {\n",
       "        text-align: right;\n",
       "    }\n",
       "</style>\n",
       "<table border=\"1\" class=\"dataframe\">\n",
       "  <thead>\n",
       "    <tr style=\"text-align: right;\">\n",
       "      <th></th>\n",
       "      <th></th>\n",
       "      <th>mb_used</th>\n",
       "    </tr>\n",
       "    <tr>\n",
       "      <th>month</th>\n",
       "      <th>user_id</th>\n",
       "      <th></th>\n",
       "    </tr>\n",
       "  </thead>\n",
       "  <tbody>\n",
       "    <tr>\n",
       "      <td rowspan=\"5\" valign=\"top\">1</td>\n",
       "      <td>1005</td>\n",
       "      <td>2724.0</td>\n",
       "    </tr>\n",
       "    <tr>\n",
       "      <td>1032</td>\n",
       "      <td>24100.0</td>\n",
       "    </tr>\n",
       "    <tr>\n",
       "      <td>1045</td>\n",
       "      <td>2343.0</td>\n",
       "    </tr>\n",
       "    <tr>\n",
       "      <td>1055</td>\n",
       "      <td>17069.0</td>\n",
       "    </tr>\n",
       "    <tr>\n",
       "      <td>1071</td>\n",
       "      <td>15585.0</td>\n",
       "    </tr>\n",
       "    <tr>\n",
       "      <td>...</td>\n",
       "      <td>...</td>\n",
       "      <td>...</td>\n",
       "    </tr>\n",
       "    <tr>\n",
       "      <td rowspan=\"5\" valign=\"top\">12</td>\n",
       "      <td>1494</td>\n",
       "      <td>17601.0</td>\n",
       "    </tr>\n",
       "    <tr>\n",
       "      <td>1495</td>\n",
       "      <td>23404.0</td>\n",
       "    </tr>\n",
       "    <tr>\n",
       "      <td>1496</td>\n",
       "      <td>20702.0</td>\n",
       "    </tr>\n",
       "    <tr>\n",
       "      <td>1497</td>\n",
       "      <td>19899.0</td>\n",
       "    </tr>\n",
       "    <tr>\n",
       "      <td>1499</td>\n",
       "      <td>13037.0</td>\n",
       "    </tr>\n",
       "  </tbody>\n",
       "</table>\n",
       "<p>3203 rows × 1 columns</p>\n",
       "</div>"
      ],
      "text/plain": [
       "               mb_used\n",
       "month user_id         \n",
       "1     1005      2724.0\n",
       "      1032     24100.0\n",
       "      1045      2343.0\n",
       "      1055     17069.0\n",
       "      1071     15585.0\n",
       "...                ...\n",
       "12    1494     17601.0\n",
       "      1495     23404.0\n",
       "      1496     20702.0\n",
       "      1497     19899.0\n",
       "      1499     13037.0\n",
       "\n",
       "[3203 rows x 1 columns]"
      ]
     },
     "execution_count": 32,
     "metadata": {},
     "output_type": "execute_result"
    }
   ],
   "source": [
    "group_internet"
   ]
  },
  {
   "cell_type": "code",
   "execution_count": 33,
   "metadata": {},
   "outputs": [],
   "source": [
    "group_all=group_messages_call.merge(group_internet,on=['user_id','month'],how='outer')"
   ]
  },
  {
   "cell_type": "markdown",
   "metadata": {},
   "source": [
    "объединяю таблицу звонки-сообщения и интернет"
   ]
  },
  {
   "cell_type": "code",
   "execution_count": 34,
   "metadata": {},
   "outputs": [],
   "source": [
    "data_users['month']=data_users['reg_date'].dt.month"
   ]
  },
  {
   "cell_type": "code",
   "execution_count": 35,
   "metadata": {},
   "outputs": [],
   "source": [
    "group_all=group_all.merge(data_users,on=['user_id','month'],how='inner')"
   ]
  },
  {
   "cell_type": "markdown",
   "metadata": {},
   "source": [
    "объединяю таблицу звонки-сообщения-интернет и информация о пользователях"
   ]
  },
  {
   "cell_type": "code",
   "execution_count": 36,
   "metadata": {
    "scrolled": true
   },
   "outputs": [],
   "source": [
    "group_all=group_all.fillna(0).sort_values(by='user_id')#  меняю nan на 0"
   ]
  },
  {
   "cell_type": "markdown",
   "metadata": {},
   "source": [
    "---\n",
    "## Комментарий от наставника\n",
    "\n",
    "Лучше не хранить в таблице информацию, которая не поможет нам в дальнейшем анализе: имя, фамилия клиента и пр.\n",
    "\n",
    "---"
   ]
  },
  {
   "cell_type": "code",
   "execution_count": 37,
   "metadata": {},
   "outputs": [],
   "source": [
    "del group_all['age']\n",
    "del group_all['churn_date']"
   ]
  },
  {
   "cell_type": "code",
   "execution_count": 38,
   "metadata": {},
   "outputs": [],
   "source": [
    "del group_all['first_name']\n",
    "del group_all['last_name']\n",
    "del group_all['reg_date']"
   ]
  },
  {
   "cell_type": "markdown",
   "metadata": {},
   "source": [
    "Удаляю все не нужные столбцы. "
   ]
  },
  {
   "cell_type": "markdown",
   "metadata": {},
   "source": [
    "### Вопрос, не нашел как удалить одной строкой несколько столбцов?"
   ]
  },
  {
   "cell_type": "code",
   "execution_count": 39,
   "metadata": {},
   "outputs": [
    {
     "data": {
      "text/html": [
       "<div>\n",
       "<style scoped>\n",
       "    .dataframe tbody tr th:only-of-type {\n",
       "        vertical-align: middle;\n",
       "    }\n",
       "\n",
       "    .dataframe tbody tr th {\n",
       "        vertical-align: top;\n",
       "    }\n",
       "\n",
       "    .dataframe thead th {\n",
       "        text-align: right;\n",
       "    }\n",
       "</style>\n",
       "<table border=\"1\" class=\"dataframe\">\n",
       "  <thead>\n",
       "    <tr style=\"text-align: right;\">\n",
       "      <th></th>\n",
       "      <th>user_id</th>\n",
       "      <th>month</th>\n",
       "      <th>message_date</th>\n",
       "      <th>duration</th>\n",
       "      <th>mb_used</th>\n",
       "      <th>city</th>\n",
       "      <th>tariff</th>\n",
       "    </tr>\n",
       "  </thead>\n",
       "  <tbody>\n",
       "    <tr>\n",
       "      <td>132</td>\n",
       "      <td>1000</td>\n",
       "      <td>5</td>\n",
       "      <td>22.0</td>\n",
       "      <td>158.0</td>\n",
       "      <td>2252.0</td>\n",
       "      <td>Краснодар</td>\n",
       "      <td>ultra</td>\n",
       "    </tr>\n",
       "    <tr>\n",
       "      <td>483</td>\n",
       "      <td>1001</td>\n",
       "      <td>11</td>\n",
       "      <td>0.0</td>\n",
       "      <td>429.0</td>\n",
       "      <td>18405.0</td>\n",
       "      <td>Москва</td>\n",
       "      <td>smart</td>\n",
       "    </tr>\n",
       "    <tr>\n",
       "      <td>167</td>\n",
       "      <td>1002</td>\n",
       "      <td>6</td>\n",
       "      <td>4.0</td>\n",
       "      <td>117.0</td>\n",
       "      <td>10844.0</td>\n",
       "      <td>Стерлитамак</td>\n",
       "      <td>smart</td>\n",
       "    </tr>\n",
       "    <tr>\n",
       "      <td>239</td>\n",
       "      <td>1003</td>\n",
       "      <td>8</td>\n",
       "      <td>37.0</td>\n",
       "      <td>377.0</td>\n",
       "      <td>8557.0</td>\n",
       "      <td>Москва</td>\n",
       "      <td>ultra</td>\n",
       "    </tr>\n",
       "    <tr>\n",
       "      <td>133</td>\n",
       "      <td>1004</td>\n",
       "      <td>5</td>\n",
       "      <td>95.0</td>\n",
       "      <td>34.0</td>\n",
       "      <td>13392.0</td>\n",
       "      <td>Новокузнецк</td>\n",
       "      <td>ultra</td>\n",
       "    </tr>\n",
       "  </tbody>\n",
       "</table>\n",
       "</div>"
      ],
      "text/plain": [
       "     user_id  month  message_date  duration  mb_used         city tariff\n",
       "132     1000      5          22.0     158.0   2252.0    Краснодар  ultra\n",
       "483     1001     11           0.0     429.0  18405.0       Москва  smart\n",
       "167     1002      6           4.0     117.0  10844.0  Стерлитамак  smart\n",
       "239     1003      8          37.0     377.0   8557.0       Москва  ultra\n",
       "133     1004      5          95.0      34.0  13392.0  Новокузнецк  ultra"
      ]
     },
     "execution_count": 39,
     "metadata": {},
     "output_type": "execute_result"
    }
   ],
   "source": [
    "group_all.head() # Рабочая таблица"
   ]
  },
  {
   "cell_type": "code",
   "execution_count": 40,
   "metadata": {},
   "outputs": [],
   "source": [
    "#Функция посчета выручки в зависимости от тарифа\n",
    "\n",
    "def how_money(row):\n",
    "    \n",
    "    messages=row['message_date']\n",
    "    calls=row['duration']\n",
    "    internet=row['mb_used']\n",
    "    tariff=row['tariff']\n",
    "    \n",
    "    \n",
    "    if (tariff=='smart'):\n",
    "        i=0\n",
    "    else:\n",
    "        i=1\n",
    "        \n",
    "    ostatok_call=data_tariffs['minutes_included'][i]-calls\n",
    "    if ostatok_call<0:\n",
    "        call_money=-ostatok_call*data_tariffs['rub_per_minute'][i]\n",
    "    else:\n",
    "        call_money=0\n",
    "         \n",
    "    ostatok_internet=data_tariffs['mg_per_month_included'][i]-internet\n",
    "    if ostatok_internet<0:\n",
    "        internet_money=round((-ostatok_internet/1024))*data_tariffs['rub_per_gb'][i]\n",
    "    else:\n",
    "        internet_money=0\n",
    "            \n",
    "    ostatok_messages=data_tariffs['messages_included'][i]-messages\n",
    "    if ostatok_messages<0:\n",
    "        messages_money=-ostatok_messages*data_tariffs['rub_per_message'][i]\n",
    "    else:\n",
    "        messages_money=0\n",
    "            \n",
    "    money=call_money+internet_money+messages_money+data_tariffs['rub_monthly_fee'][i]\n",
    "    return money     "
   ]
  },
  {
   "cell_type": "code",
   "execution_count": 41,
   "metadata": {},
   "outputs": [],
   "source": [
    "group_all['money']=group_all.apply(how_money,axis=1) # скармливаю функцию Apply"
   ]
  },
  {
   "cell_type": "code",
   "execution_count": 42,
   "metadata": {
    "scrolled": true
   },
   "outputs": [
    {
     "data": {
      "text/html": [
       "<div>\n",
       "<style scoped>\n",
       "    .dataframe tbody tr th:only-of-type {\n",
       "        vertical-align: middle;\n",
       "    }\n",
       "\n",
       "    .dataframe tbody tr th {\n",
       "        vertical-align: top;\n",
       "    }\n",
       "\n",
       "    .dataframe thead th {\n",
       "        text-align: right;\n",
       "    }\n",
       "</style>\n",
       "<table border=\"1\" class=\"dataframe\">\n",
       "  <thead>\n",
       "    <tr style=\"text-align: right;\">\n",
       "      <th></th>\n",
       "      <th>user_id</th>\n",
       "      <th>month</th>\n",
       "      <th>message_date</th>\n",
       "      <th>duration</th>\n",
       "      <th>mb_used</th>\n",
       "      <th>city</th>\n",
       "      <th>tariff</th>\n",
       "      <th>money</th>\n",
       "    </tr>\n",
       "  </thead>\n",
       "  <tbody>\n",
       "    <tr>\n",
       "      <td>132</td>\n",
       "      <td>1000</td>\n",
       "      <td>5</td>\n",
       "      <td>22.0</td>\n",
       "      <td>158.0</td>\n",
       "      <td>2252.0</td>\n",
       "      <td>Краснодар</td>\n",
       "      <td>ultra</td>\n",
       "      <td>1950.0</td>\n",
       "    </tr>\n",
       "    <tr>\n",
       "      <td>483</td>\n",
       "      <td>1001</td>\n",
       "      <td>11</td>\n",
       "      <td>0.0</td>\n",
       "      <td>429.0</td>\n",
       "      <td>18405.0</td>\n",
       "      <td>Москва</td>\n",
       "      <td>smart</td>\n",
       "      <td>1150.0</td>\n",
       "    </tr>\n",
       "    <tr>\n",
       "      <td>167</td>\n",
       "      <td>1002</td>\n",
       "      <td>6</td>\n",
       "      <td>4.0</td>\n",
       "      <td>117.0</td>\n",
       "      <td>10844.0</td>\n",
       "      <td>Стерлитамак</td>\n",
       "      <td>smart</td>\n",
       "      <td>550.0</td>\n",
       "    </tr>\n",
       "    <tr>\n",
       "      <td>239</td>\n",
       "      <td>1003</td>\n",
       "      <td>8</td>\n",
       "      <td>37.0</td>\n",
       "      <td>377.0</td>\n",
       "      <td>8557.0</td>\n",
       "      <td>Москва</td>\n",
       "      <td>ultra</td>\n",
       "      <td>1950.0</td>\n",
       "    </tr>\n",
       "    <tr>\n",
       "      <td>133</td>\n",
       "      <td>1004</td>\n",
       "      <td>5</td>\n",
       "      <td>95.0</td>\n",
       "      <td>34.0</td>\n",
       "      <td>13392.0</td>\n",
       "      <td>Новокузнецк</td>\n",
       "      <td>ultra</td>\n",
       "      <td>1950.0</td>\n",
       "    </tr>\n",
       "  </tbody>\n",
       "</table>\n",
       "</div>"
      ],
      "text/plain": [
       "     user_id  month  message_date  duration  mb_used         city tariff  \\\n",
       "132     1000      5          22.0     158.0   2252.0    Краснодар  ultra   \n",
       "483     1001     11           0.0     429.0  18405.0       Москва  smart   \n",
       "167     1002      6           4.0     117.0  10844.0  Стерлитамак  smart   \n",
       "239     1003      8          37.0     377.0   8557.0       Москва  ultra   \n",
       "133     1004      5          95.0      34.0  13392.0  Новокузнецк  ultra   \n",
       "\n",
       "      money  \n",
       "132  1950.0  \n",
       "483  1150.0  \n",
       "167   550.0  \n",
       "239  1950.0  \n",
       "133  1950.0  "
      ]
     },
     "execution_count": 42,
     "metadata": {},
     "output_type": "execute_result"
    }
   ],
   "source": [
    "group_all.head()"
   ]
  },
  {
   "cell_type": "markdown",
   "metadata": {},
   "source": [
    "---\n",
    "## Комментарий от наставника\n",
    "\n",
    "Стоит округлять значения интернет трафика после деления на 1024 для получения целых чисел выручки. В остальном все верно, финальная таблица получена.\n",
    "\n",
    "---"
   ]
  },
  {
   "cell_type": "code",
   "execution_count": 43,
   "metadata": {},
   "outputs": [
    {
     "data": {
      "text/plain": [
       "<matplotlib.axes._subplots.AxesSubplot at 0x7fd33f5a3c50>"
      ]
     },
     "execution_count": 43,
     "metadata": {},
     "output_type": "execute_result"
    },
    {
     "data": {
      "image/png": "[encoded data removed]",
      "text/plain": [
       "<Figure size 432x288 with 1 Axes>"
      ]
     },
     "metadata": {
      "needs_background": "light"
     },
     "output_type": "display_data"
    }
   ],
   "source": [
    "group_all['money'].hist(bins=50)"
   ]
  },
  {
   "cell_type": "code",
   "execution_count": 44,
   "metadata": {},
   "outputs": [
    {
     "data": {
      "text/plain": [
       "tariff\n",
       "smart    238487.0\n",
       "ultra    289950.0\n",
       "Name: money, dtype: float64"
      ]
     },
     "execution_count": 44,
     "metadata": {},
     "output_type": "execute_result"
    }
   ],
   "source": [
    "group_all.groupby('tariff')['money'].sum()"
   ]
  },
  {
   "cell_type": "code",
   "execution_count": 45,
   "metadata": {},
   "outputs": [
    {
     "data": {
      "text/html": [
       "<div>\n",
       "<style scoped>\n",
       "    .dataframe tbody tr th:only-of-type {\n",
       "        vertical-align: middle;\n",
       "    }\n",
       "\n",
       "    .dataframe tbody tr th {\n",
       "        vertical-align: top;\n",
       "    }\n",
       "\n",
       "    .dataframe thead th {\n",
       "        text-align: right;\n",
       "    }\n",
       "</style>\n",
       "<table border=\"1\" class=\"dataframe\">\n",
       "  <thead>\n",
       "    <tr style=\"text-align: right;\">\n",
       "      <th></th>\n",
       "      <th>user_id</th>\n",
       "      <th>month</th>\n",
       "      <th>message_date</th>\n",
       "      <th>duration</th>\n",
       "      <th>mb_used</th>\n",
       "      <th>city</th>\n",
       "      <th>tariff</th>\n",
       "      <th>money</th>\n",
       "    </tr>\n",
       "  </thead>\n",
       "  <tbody>\n",
       "    <tr>\n",
       "      <td>332</td>\n",
       "      <td>1276</td>\n",
       "      <td>10</td>\n",
       "      <td>29.0</td>\n",
       "      <td>369.0</td>\n",
       "      <td>33501.0</td>\n",
       "      <td>Москва</td>\n",
       "      <td>ultra</td>\n",
       "      <td>2400.0</td>\n",
       "    </tr>\n",
       "    <tr>\n",
       "      <td>371</td>\n",
       "      <td>1304</td>\n",
       "      <td>11</td>\n",
       "      <td>65.0</td>\n",
       "      <td>435.0</td>\n",
       "      <td>34860.0</td>\n",
       "      <td>Владимир</td>\n",
       "      <td>ultra</td>\n",
       "      <td>2550.0</td>\n",
       "    </tr>\n",
       "    <tr>\n",
       "      <td>52</td>\n",
       "      <td>1330</td>\n",
       "      <td>2</td>\n",
       "      <td>56.0</td>\n",
       "      <td>511.0</td>\n",
       "      <td>32501.0</td>\n",
       "      <td>Нижний Новгород</td>\n",
       "      <td>ultra</td>\n",
       "      <td>2250.0</td>\n",
       "    </tr>\n",
       "  </tbody>\n",
       "</table>\n",
       "</div>"
      ],
      "text/plain": [
       "     user_id  month  message_date  duration  mb_used             city tariff  \\\n",
       "332     1276     10          29.0     369.0  33501.0           Москва  ultra   \n",
       "371     1304     11          65.0     435.0  34860.0         Владимир  ultra   \n",
       "52      1330      2          56.0     511.0  32501.0  Нижний Новгород  ultra   \n",
       "\n",
       "      money  \n",
       "332  2400.0  \n",
       "371  2550.0  \n",
       "52   2250.0  "
      ]
     },
     "execution_count": 45,
     "metadata": {},
     "output_type": "execute_result"
    }
   ],
   "source": [
    "group_all.query('tariff==\"ultra\" and money>1950')"
   ]
  },
  {
   "cell_type": "code",
   "execution_count": 46,
   "metadata": {},
   "outputs": [
    {
     "data": {
      "text/plain": [
       "user_id         81\n",
       "month           81\n",
       "message_date    81\n",
       "duration        81\n",
       "mb_used         81\n",
       "city            81\n",
       "tariff          81\n",
       "money           81\n",
       "dtype: int64"
      ]
     },
     "execution_count": 46,
     "metadata": {},
     "output_type": "execute_result"
    }
   ],
   "source": [
    "group_all.query('tariff==\"smart\" and money>550').count()"
   ]
  },
  {
   "cell_type": "markdown",
   "metadata": {},
   "source": [
    "Общая гистограмма прибыли для друх тарифов. Видно,что тариф смарт прибыльнее. В основном люди за месяц находятся в рамка тарифа и не переплачивают."
   ]
  },
  {
   "cell_type": "markdown",
   "metadata": {},
   "source": [
    "---\n",
    "## Комментарий от наставника\n",
    "\n",
    "Чем же смарт прибыльнее? Разве лучше для компании, когда 300 человек платят 500 рублей в месяц или 150 человек, но по 2000 рублей в месяц? Переплачивают, у нас довольно тяжелый правый хвост у распределений. \n",
    "\n",
    "---"
   ]
  },
  {
   "cell_type": "markdown",
   "metadata": {},
   "source": [
    "Из графика и сгруппированной таблица по тарифам видно, что самый прибыльный тариф это Ультра. За рамки ежемесячного платежа больше всего у пользователей Смарт."
   ]
  },
  {
   "cell_type": "code",
   "execution_count": 47,
   "metadata": {},
   "outputs": [],
   "source": [
    "count_durations=group_all.pivot_table(index='month',values='duration',aggfunc=('count'))"
   ]
  },
  {
   "cell_type": "markdown",
   "metadata": {},
   "source": [
    "Подсчет количества звонков"
   ]
  },
  {
   "cell_type": "code",
   "execution_count": 48,
   "metadata": {},
   "outputs": [],
   "source": [
    "tariff_ultra=(group_all\n",
    "     .query('tariff==\"ultra\"')\n",
    "     .pivot_table(index='month',values=('duration','message_date','mb_used'),aggfunc=('sum'))\n",
    "     #.plot(y='mb_used',grid=True,figsize=(13,6),style='o-',kind='bar',label='ultra')\n",
    ")\n",
    "\n",
    "tariff_smart=(group_all\n",
    "     .query('tariff==\"smart\"')\n",
    "     .pivot_table(index='month',values=('duration','message_date','mb_used'),aggfunc=('sum'))\n",
    "                                                                                      \n",
    ")\n"
   ]
  },
  {
   "cell_type": "markdown",
   "metadata": {},
   "source": [
    "отделяю тариф Ультра и тариф Смарт по отдельности и делаю срез по месяцам с подсчетом сумм по звокам, интернету и сообщениям"
   ]
  },
  {
   "cell_type": "code",
   "execution_count": 49,
   "metadata": {},
   "outputs": [
    {
     "data": {
      "text/html": [
       "<div>\n",
       "<style scoped>\n",
       "    .dataframe tbody tr th:only-of-type {\n",
       "        vertical-align: middle;\n",
       "    }\n",
       "\n",
       "    .dataframe tbody tr th {\n",
       "        vertical-align: top;\n",
       "    }\n",
       "\n",
       "    .dataframe thead th {\n",
       "        text-align: right;\n",
       "    }\n",
       "</style>\n",
       "<table border=\"1\" class=\"dataframe\">\n",
       "  <thead>\n",
       "    <tr style=\"text-align: right;\">\n",
       "      <th></th>\n",
       "      <th>duration</th>\n",
       "      <th>mb_used</th>\n",
       "      <th>message_date</th>\n",
       "    </tr>\n",
       "    <tr>\n",
       "      <th>month</th>\n",
       "      <th></th>\n",
       "      <th></th>\n",
       "      <th></th>\n",
       "    </tr>\n",
       "  </thead>\n",
       "  <tbody>\n",
       "    <tr>\n",
       "      <td>1</td>\n",
       "      <td>3830.0</td>\n",
       "      <td>118146.0</td>\n",
       "      <td>304.0</td>\n",
       "    </tr>\n",
       "    <tr>\n",
       "      <td>2</td>\n",
       "      <td>1861.0</td>\n",
       "      <td>117164.0</td>\n",
       "      <td>181.0</td>\n",
       "    </tr>\n",
       "    <tr>\n",
       "      <td>3</td>\n",
       "      <td>4168.0</td>\n",
       "      <td>96257.0</td>\n",
       "      <td>146.0</td>\n",
       "    </tr>\n",
       "    <tr>\n",
       "      <td>4</td>\n",
       "      <td>5254.0</td>\n",
       "      <td>212908.0</td>\n",
       "      <td>412.0</td>\n",
       "    </tr>\n",
       "    <tr>\n",
       "      <td>5</td>\n",
       "      <td>2170.0</td>\n",
       "      <td>106492.0</td>\n",
       "      <td>332.0</td>\n",
       "    </tr>\n",
       "    <tr>\n",
       "      <td>6</td>\n",
       "      <td>3688.0</td>\n",
       "      <td>187015.0</td>\n",
       "      <td>501.0</td>\n",
       "    </tr>\n",
       "    <tr>\n",
       "      <td>7</td>\n",
       "      <td>2993.0</td>\n",
       "      <td>71482.0</td>\n",
       "      <td>261.0</td>\n",
       "    </tr>\n",
       "    <tr>\n",
       "      <td>8</td>\n",
       "      <td>3886.0</td>\n",
       "      <td>116998.0</td>\n",
       "      <td>583.0</td>\n",
       "    </tr>\n",
       "    <tr>\n",
       "      <td>9</td>\n",
       "      <td>2686.0</td>\n",
       "      <td>71710.0</td>\n",
       "      <td>238.0</td>\n",
       "    </tr>\n",
       "    <tr>\n",
       "      <td>10</td>\n",
       "      <td>3559.0</td>\n",
       "      <td>199256.0</td>\n",
       "      <td>557.0</td>\n",
       "    </tr>\n",
       "    <tr>\n",
       "      <td>11</td>\n",
       "      <td>5398.0</td>\n",
       "      <td>187846.0</td>\n",
       "      <td>727.0</td>\n",
       "    </tr>\n",
       "    <tr>\n",
       "      <td>12</td>\n",
       "      <td>4835.0</td>\n",
       "      <td>168469.0</td>\n",
       "      <td>474.0</td>\n",
       "    </tr>\n",
       "  </tbody>\n",
       "</table>\n",
       "</div>"
      ],
      "text/plain": [
       "       duration   mb_used  message_date\n",
       "month                                  \n",
       "1        3830.0  118146.0         304.0\n",
       "2        1861.0  117164.0         181.0\n",
       "3        4168.0   96257.0         146.0\n",
       "4        5254.0  212908.0         412.0\n",
       "5        2170.0  106492.0         332.0\n",
       "6        3688.0  187015.0         501.0\n",
       "7        2993.0   71482.0         261.0\n",
       "8        3886.0  116998.0         583.0\n",
       "9        2686.0   71710.0         238.0\n",
       "10       3559.0  199256.0         557.0\n",
       "11       5398.0  187846.0         727.0\n",
       "12       4835.0  168469.0         474.0"
      ]
     },
     "execution_count": 49,
     "metadata": {},
     "output_type": "execute_result"
    }
   ],
   "source": [
    "tariff_ultra"
   ]
  },
  {
   "cell_type": "code",
   "execution_count": 50,
   "metadata": {},
   "outputs": [
    {
     "data": {
      "text/html": [
       "<div>\n",
       "<style scoped>\n",
       "    .dataframe tbody tr th:only-of-type {\n",
       "        vertical-align: middle;\n",
       "    }\n",
       "\n",
       "    .dataframe tbody tr th {\n",
       "        vertical-align: top;\n",
       "    }\n",
       "\n",
       "    .dataframe thead th {\n",
       "        text-align: right;\n",
       "    }\n",
       "</style>\n",
       "<table border=\"1\" class=\"dataframe\">\n",
       "  <thead>\n",
       "    <tr style=\"text-align: right;\">\n",
       "      <th></th>\n",
       "      <th>duration</th>\n",
       "      <th>mb_used</th>\n",
       "      <th>message_date</th>\n",
       "    </tr>\n",
       "    <tr>\n",
       "      <th>month</th>\n",
       "      <th></th>\n",
       "      <th></th>\n",
       "      <th></th>\n",
       "    </tr>\n",
       "  </thead>\n",
       "  <tbody>\n",
       "    <tr>\n",
       "      <td>1</td>\n",
       "      <td>6901.0</td>\n",
       "      <td>289114.0</td>\n",
       "      <td>620.0</td>\n",
       "    </tr>\n",
       "    <tr>\n",
       "      <td>2</td>\n",
       "      <td>4019.0</td>\n",
       "      <td>162801.0</td>\n",
       "      <td>312.0</td>\n",
       "    </tr>\n",
       "    <tr>\n",
       "      <td>3</td>\n",
       "      <td>5016.0</td>\n",
       "      <td>187955.0</td>\n",
       "      <td>400.0</td>\n",
       "    </tr>\n",
       "    <tr>\n",
       "      <td>4</td>\n",
       "      <td>8046.0</td>\n",
       "      <td>275685.0</td>\n",
       "      <td>739.0</td>\n",
       "    </tr>\n",
       "    <tr>\n",
       "      <td>5</td>\n",
       "      <td>5631.0</td>\n",
       "      <td>274927.0</td>\n",
       "      <td>514.0</td>\n",
       "    </tr>\n",
       "    <tr>\n",
       "      <td>6</td>\n",
       "      <td>4249.0</td>\n",
       "      <td>188750.0</td>\n",
       "      <td>314.0</td>\n",
       "    </tr>\n",
       "    <tr>\n",
       "      <td>7</td>\n",
       "      <td>8879.0</td>\n",
       "      <td>325371.0</td>\n",
       "      <td>671.0</td>\n",
       "    </tr>\n",
       "    <tr>\n",
       "      <td>8</td>\n",
       "      <td>7208.0</td>\n",
       "      <td>328529.0</td>\n",
       "      <td>577.0</td>\n",
       "    </tr>\n",
       "    <tr>\n",
       "      <td>9</td>\n",
       "      <td>6780.0</td>\n",
       "      <td>241412.0</td>\n",
       "      <td>549.0</td>\n",
       "    </tr>\n",
       "    <tr>\n",
       "      <td>10</td>\n",
       "      <td>9081.0</td>\n",
       "      <td>295823.0</td>\n",
       "      <td>627.0</td>\n",
       "    </tr>\n",
       "    <tr>\n",
       "      <td>11</td>\n",
       "      <td>7247.0</td>\n",
       "      <td>269818.0</td>\n",
       "      <td>617.0</td>\n",
       "    </tr>\n",
       "    <tr>\n",
       "      <td>12</td>\n",
       "      <td>11964.0</td>\n",
       "      <td>461785.0</td>\n",
       "      <td>827.0</td>\n",
       "    </tr>\n",
       "  </tbody>\n",
       "</table>\n",
       "</div>"
      ],
      "text/plain": [
       "       duration   mb_used  message_date\n",
       "month                                  \n",
       "1        6901.0  289114.0         620.0\n",
       "2        4019.0  162801.0         312.0\n",
       "3        5016.0  187955.0         400.0\n",
       "4        8046.0  275685.0         739.0\n",
       "5        5631.0  274927.0         514.0\n",
       "6        4249.0  188750.0         314.0\n",
       "7        8879.0  325371.0         671.0\n",
       "8        7208.0  328529.0         577.0\n",
       "9        6780.0  241412.0         549.0\n",
       "10       9081.0  295823.0         627.0\n",
       "11       7247.0  269818.0         617.0\n",
       "12      11964.0  461785.0         827.0"
      ]
     },
     "execution_count": 50,
     "metadata": {},
     "output_type": "execute_result"
    }
   ],
   "source": [
    "tariff_smart"
   ]
  },
  {
   "cell_type": "markdown",
   "metadata": {},
   "source": [
    "Сделал срез по месяцам и посчитал сумму потраченных минут, сообщенийб интернета для каждого тарифа"
   ]
  },
  {
   "cell_type": "code",
   "execution_count": 51,
   "metadata": {},
   "outputs": [
    {
     "data": {
      "text/plain": [
       "<matplotlib.axes._subplots.AxesSubplot at 0x7fd33f4a2f28>"
      ]
     },
     "execution_count": 51,
     "metadata": {},
     "output_type": "execute_result"
    },
    {
     "data": {
      "image/png": "[encoded data removed]",
      "text/plain": [
       "<Figure size 936x432 with 1 Axes>"
      ]
     },
     "metadata": {
      "needs_background": "light"
     },
     "output_type": "display_data"
    }
   ],
   "source": [
    "ax=tariff_ultra.plot(y='mb_used',figsize=(13,6),style='o-',kind='bar',label='ultra')\n",
    "#plt.show()\n",
    "tariff_smart.plot(y='mb_used',grid=True,figsize=(13,6),style='o-',kind='bar',label='smart',alpha=0.5,ax=ax)\n",
    "\n"
   ]
  },
  {
   "cell_type": "markdown",
   "metadata": {},
   "source": [
    "График количества потраценного интернета по месяцам по двум тарифам. Видно, что Смарт лидируем. В декабре пик."
   ]
  },
  {
   "cell_type": "code",
   "execution_count": 52,
   "metadata": {},
   "outputs": [
    {
     "data": {
      "text/plain": [
       "<matplotlib.axes._subplots.AxesSubplot at 0x7fd33ec118d0>"
      ]
     },
     "execution_count": 52,
     "metadata": {},
     "output_type": "execute_result"
    },
    {
     "data": {
      "image/png": "[encoded data removed]",
      "text/plain": [
       "<Figure size 936x432 with 1 Axes>"
      ]
     },
     "metadata": {
      "needs_background": "light"
     },
     "output_type": "display_data"
    }
   ],
   "source": [
    "ax=tariff_ultra.plot(y='duration',figsize=(13,6),style='o-',kind='bar',label='ultra')\n",
    "#plt.show()\n",
    "tariff_smart.plot(y='duration',grid=True,figsize=(13,6),style='o-',kind='bar',label='smart',alpha=0.5,ax=ax)"
   ]
  },
  {
   "cell_type": "markdown",
   "metadata": {},
   "source": [
    "График количества минут разговора по месяцам и двум тарифам. Смарт также лидирует."
   ]
  },
  {
   "cell_type": "code",
   "execution_count": 53,
   "metadata": {
    "scrolled": false
   },
   "outputs": [
    {
     "data": {
      "image/png": "[encoded data removed]",
      "text/plain": [
       "<Figure size 936x432 with 1 Axes>"
      ]
     },
     "metadata": {
      "needs_background": "light"
     },
     "output_type": "display_data"
    }
   ],
   "source": [
    "ax=tariff_ultra.plot(y='message_date',grid=True,figsize=(13,6),style='o-',kind='bar',label='ultra')\n",
    "\n",
    "tariff_smart.plot(y='message_date',grid=True,figsize=(13,6),style='o-',kind='bar',label='smart',alpha=0.5,ax=ax)\n",
    "plt.show()"
   ]
  },
  {
   "cell_type": "markdown",
   "metadata": {},
   "source": [
    "График количества сообщений по месяцам. Тут ситуация такая же, по тариф Ультра немного поднялся по количеству сообщений"
   ]
  },
  {
   "cell_type": "markdown",
   "metadata": {},
   "source": [
    "## Срез по месяцам для Ультра и расчета средних значений по звонка, сообщениям, интернету"
   ]
  },
  {
   "cell_type": "code",
   "execution_count": 54,
   "metadata": {},
   "outputs": [],
   "source": [
    "mean_ultra=(group_all\n",
    "     .query('tariff==\"ultra\"')\n",
    "     .pivot_table(index='month',values=('duration','message_date','mb_used'),aggfunc=('mean'))    \n",
    ")"
   ]
  },
  {
   "cell_type": "markdown",
   "metadata": {},
   "source": [
    "## Среднее значение mean_duration\tmean_mb_used\tmean_message для тарифа Ультра. "
   ]
  },
  {
   "cell_type": "code",
   "execution_count": 55,
   "metadata": {},
   "outputs": [
    {
     "data": {
      "text/html": [
       "<div>\n",
       "<style scoped>\n",
       "    .dataframe tbody tr th:only-of-type {\n",
       "        vertical-align: middle;\n",
       "    }\n",
       "\n",
       "    .dataframe tbody tr th {\n",
       "        vertical-align: top;\n",
       "    }\n",
       "\n",
       "    .dataframe thead th {\n",
       "        text-align: right;\n",
       "    }\n",
       "</style>\n",
       "<table border=\"1\" class=\"dataframe\">\n",
       "  <thead>\n",
       "    <tr style=\"text-align: right;\">\n",
       "      <th></th>\n",
       "      <th>mean_duration</th>\n",
       "      <th>mean_mb_used</th>\n",
       "      <th>mean_message</th>\n",
       "    </tr>\n",
       "    <tr>\n",
       "      <th>month</th>\n",
       "      <th></th>\n",
       "      <th></th>\n",
       "      <th></th>\n",
       "    </tr>\n",
       "  </thead>\n",
       "  <tbody>\n",
       "    <tr>\n",
       "      <td>1</td>\n",
       "      <td>425.555556</td>\n",
       "      <td>13127.333333</td>\n",
       "      <td>33.777778</td>\n",
       "    </tr>\n",
       "    <tr>\n",
       "      <td>2</td>\n",
       "      <td>124.066667</td>\n",
       "      <td>7810.933333</td>\n",
       "      <td>12.066667</td>\n",
       "    </tr>\n",
       "    <tr>\n",
       "      <td>3</td>\n",
       "      <td>320.615385</td>\n",
       "      <td>7404.384615</td>\n",
       "      <td>11.230769</td>\n",
       "    </tr>\n",
       "    <tr>\n",
       "      <td>4</td>\n",
       "      <td>291.888889</td>\n",
       "      <td>11828.222222</td>\n",
       "      <td>22.888889</td>\n",
       "    </tr>\n",
       "    <tr>\n",
       "      <td>5</td>\n",
       "      <td>180.833333</td>\n",
       "      <td>8874.333333</td>\n",
       "      <td>27.666667</td>\n",
       "    </tr>\n",
       "    <tr>\n",
       "      <td>6</td>\n",
       "      <td>216.941176</td>\n",
       "      <td>11000.882353</td>\n",
       "      <td>29.470588</td>\n",
       "    </tr>\n",
       "    <tr>\n",
       "      <td>7</td>\n",
       "      <td>427.571429</td>\n",
       "      <td>10211.714286</td>\n",
       "      <td>37.285714</td>\n",
       "    </tr>\n",
       "    <tr>\n",
       "      <td>8</td>\n",
       "      <td>242.875000</td>\n",
       "      <td>7312.375000</td>\n",
       "      <td>36.437500</td>\n",
       "    </tr>\n",
       "    <tr>\n",
       "      <td>9</td>\n",
       "      <td>298.444444</td>\n",
       "      <td>7967.777778</td>\n",
       "      <td>26.444444</td>\n",
       "    </tr>\n",
       "    <tr>\n",
       "      <td>10</td>\n",
       "      <td>355.900000</td>\n",
       "      <td>19925.600000</td>\n",
       "      <td>55.700000</td>\n",
       "    </tr>\n",
       "    <tr>\n",
       "      <td>11</td>\n",
       "      <td>359.866667</td>\n",
       "      <td>12523.066667</td>\n",
       "      <td>48.466667</td>\n",
       "    </tr>\n",
       "    <tr>\n",
       "      <td>12</td>\n",
       "      <td>690.714286</td>\n",
       "      <td>24067.000000</td>\n",
       "      <td>67.714286</td>\n",
       "    </tr>\n",
       "  </tbody>\n",
       "</table>\n",
       "</div>"
      ],
      "text/plain": [
       "       mean_duration  mean_mb_used  mean_message\n",
       "month                                           \n",
       "1         425.555556  13127.333333     33.777778\n",
       "2         124.066667   7810.933333     12.066667\n",
       "3         320.615385   7404.384615     11.230769\n",
       "4         291.888889  11828.222222     22.888889\n",
       "5         180.833333   8874.333333     27.666667\n",
       "6         216.941176  11000.882353     29.470588\n",
       "7         427.571429  10211.714286     37.285714\n",
       "8         242.875000   7312.375000     36.437500\n",
       "9         298.444444   7967.777778     26.444444\n",
       "10        355.900000  19925.600000     55.700000\n",
       "11        359.866667  12523.066667     48.466667\n",
       "12        690.714286  24067.000000     67.714286"
      ]
     },
     "execution_count": 55,
     "metadata": {},
     "output_type": "execute_result"
    }
   ],
   "source": [
    "mean_ultra.set_axis(['mean_duration','mean_mb_used','mean_message'],axis='columns',inplace=True)\n",
    "mean_ultra"
   ]
  },
  {
   "cell_type": "code",
   "execution_count": 56,
   "metadata": {},
   "outputs": [
    {
     "data": {
      "text/plain": [
       "<matplotlib.axes._subplots.AxesSubplot at 0x7fd33e0d6fd0>"
      ]
     },
     "execution_count": 56,
     "metadata": {},
     "output_type": "execute_result"
    },
    {
     "data": {
      "image/png": "[encoded data removed]",
      "text/plain": [
       "<Figure size 936x432 with 1 Axes>"
      ]
     },
     "metadata": {
      "needs_background": "light"
     },
     "output_type": "display_data"
    }
   ],
   "source": [
    "mean_ultra.plot(y='mean_duration',grid=True,figsize=(13,6),style='o-',kind='bar',label='Среднее значение минут разговора для всех пользователей тарифа Ultra',alpha=0.5)"
   ]
  },
  {
   "cell_type": "code",
   "execution_count": 57,
   "metadata": {},
   "outputs": [],
   "source": [
    "mean_ultra['mean_minute_for_person']=tariff_ultra['duration']/len(group_all.query('tariff==\"ultra\"'))"
   ]
  },
  {
   "cell_type": "markdown",
   "metadata": {},
   "source": [
    "Считаю среднее время разговора пользователей за каждый месяц пользователей ультра"
   ]
  },
  {
   "cell_type": "markdown",
   "metadata": {},
   "source": [
    "---\n",
    "## Комментарий от наставника\n",
    "\n",
    "Импорт необходимых библиотек лучше делать в самом начале работы в одной ячейке.\n",
    "\n",
    "---"
   ]
  },
  {
   "cell_type": "markdown",
   "metadata": {},
   "source": [
    "# Считаю дисперсию и отклонение для тарифа Ultra по месяцам"
   ]
  },
  {
   "cell_type": "code",
   "execution_count": 58,
   "metadata": {},
   "outputs": [
    {
     "data": {
      "text/html": [
       "<div>\n",
       "<style scoped>\n",
       "    .dataframe tbody tr th:only-of-type {\n",
       "        vertical-align: middle;\n",
       "    }\n",
       "\n",
       "    .dataframe tbody tr th {\n",
       "        vertical-align: top;\n",
       "    }\n",
       "\n",
       "    .dataframe thead th {\n",
       "        text-align: right;\n",
       "    }\n",
       "</style>\n",
       "<table border=\"1\" class=\"dataframe\">\n",
       "  <thead>\n",
       "    <tr style=\"text-align: right;\">\n",
       "      <th></th>\n",
       "      <th>user_id</th>\n",
       "      <th>month</th>\n",
       "      <th>message_date</th>\n",
       "      <th>duration</th>\n",
       "      <th>mb_used</th>\n",
       "      <th>city</th>\n",
       "      <th>tariff</th>\n",
       "      <th>money</th>\n",
       "    </tr>\n",
       "  </thead>\n",
       "  <tbody>\n",
       "    <tr>\n",
       "      <td>132</td>\n",
       "      <td>1000</td>\n",
       "      <td>5</td>\n",
       "      <td>22.0</td>\n",
       "      <td>158.0</td>\n",
       "      <td>2252.0</td>\n",
       "      <td>Краснодар</td>\n",
       "      <td>ultra</td>\n",
       "      <td>1950.0</td>\n",
       "    </tr>\n",
       "    <tr>\n",
       "      <td>239</td>\n",
       "      <td>1003</td>\n",
       "      <td>8</td>\n",
       "      <td>37.0</td>\n",
       "      <td>377.0</td>\n",
       "      <td>8557.0</td>\n",
       "      <td>Москва</td>\n",
       "      <td>ultra</td>\n",
       "      <td>1950.0</td>\n",
       "    </tr>\n",
       "    <tr>\n",
       "      <td>133</td>\n",
       "      <td>1004</td>\n",
       "      <td>5</td>\n",
       "      <td>95.0</td>\n",
       "      <td>34.0</td>\n",
       "      <td>13392.0</td>\n",
       "      <td>Новокузнецк</td>\n",
       "      <td>ultra</td>\n",
       "      <td>1950.0</td>\n",
       "    </tr>\n",
       "    <tr>\n",
       "      <td>350</td>\n",
       "      <td>1013</td>\n",
       "      <td>11</td>\n",
       "      <td>17.0</td>\n",
       "      <td>366.0</td>\n",
       "      <td>9773.0</td>\n",
       "      <td>Иваново</td>\n",
       "      <td>ultra</td>\n",
       "      <td>1950.0</td>\n",
       "    </tr>\n",
       "    <tr>\n",
       "      <td>351</td>\n",
       "      <td>1016</td>\n",
       "      <td>11</td>\n",
       "      <td>39.0</td>\n",
       "      <td>27.0</td>\n",
       "      <td>7375.0</td>\n",
       "      <td>Омск</td>\n",
       "      <td>ultra</td>\n",
       "      <td>1950.0</td>\n",
       "    </tr>\n",
       "  </tbody>\n",
       "</table>\n",
       "</div>"
      ],
      "text/plain": [
       "     user_id  month  message_date  duration  mb_used         city tariff  \\\n",
       "132     1000      5          22.0     158.0   2252.0    Краснодар  ultra   \n",
       "239     1003      8          37.0     377.0   8557.0       Москва  ultra   \n",
       "133     1004      5          95.0      34.0  13392.0  Новокузнецк  ultra   \n",
       "350     1013     11          17.0     366.0   9773.0      Иваново  ultra   \n",
       "351     1016     11          39.0      27.0   7375.0         Омск  ultra   \n",
       "\n",
       "      money  \n",
       "132  1950.0  \n",
       "239  1950.0  \n",
       "133  1950.0  \n",
       "350  1950.0  \n",
       "351  1950.0  "
      ]
     },
     "execution_count": 58,
     "metadata": {},
     "output_type": "execute_result"
    }
   ],
   "source": [
    "ultra_person_calls=group_all.query('tariff==\"ultra\"')# записываю в переменную всех пользователей Ультра для подсчета дисперсии \n",
    "ultra_person_calls.head()"
   ]
  },
  {
   "cell_type": "markdown",
   "metadata": {},
   "source": [
    "### Считаю дисперсию по всем показателям Ultra"
   ]
  },
  {
   "cell_type": "code",
   "execution_count": 59,
   "metadata": {},
   "outputs": [],
   "source": [
    "disp_sigma_ultra=ultra_person_calls.pivot_table(index='month',values='duration',aggfunc=(np.var))\n",
    "#Считаю дисперсию звонков"
   ]
  },
  {
   "cell_type": "code",
   "execution_count": 60,
   "metadata": {},
   "outputs": [],
   "source": [
    "disp_sigma_ultra_messages=ultra_person_calls.pivot_table(index='month',values='message_date',aggfunc=(np.var))\n",
    "#Считаю дисперсию сообщений"
   ]
  },
  {
   "cell_type": "code",
   "execution_count": 61,
   "metadata": {},
   "outputs": [],
   "source": [
    "disp_sigma_ultra_internet=ultra_person_calls.pivot_table(index='month',values='mb_used',aggfunc=(np.var))\n",
    "#Считаю дисперсию интернет"
   ]
  },
  {
   "cell_type": "markdown",
   "metadata": {},
   "source": [
    "### Считаю стандартное отклонение по всем показателям Ultra"
   ]
  },
  {
   "cell_type": "code",
   "execution_count": 62,
   "metadata": {},
   "outputs": [],
   "source": [
    "disp_sigma_ultra['sigma']=disp_sigma_ultra['duration'].apply(np.sqrt)\n",
    "#Считаю стандартное отклонение по звонкам"
   ]
  },
  {
   "cell_type": "code",
   "execution_count": 63,
   "metadata": {},
   "outputs": [],
   "source": [
    "disp_sigma_ultra_messages['sigma']=disp_sigma_ultra_messages['message_date'].apply(np.sqrt)\n",
    "#Считаю стандартное отклонение по cообщениям"
   ]
  },
  {
   "cell_type": "code",
   "execution_count": 64,
   "metadata": {},
   "outputs": [],
   "source": [
    "disp_sigma_ultra_internet['sigma']=disp_sigma_ultra_internet['mb_used'].apply(np.sqrt)\n",
    "#Считаю стандартное отклонение по интернету"
   ]
  },
  {
   "cell_type": "code",
   "execution_count": 65,
   "metadata": {},
   "outputs": [],
   "source": [
    "disp_sigma_ultra.set_axis(['dispersion_call','sigma_call'],axis='columns',inplace=True)\n",
    "disp_sigma_ultra_messages.set_axis(['dispersion_message','sigma_message'],axis='columns',inplace=True)\n",
    "disp_sigma_ultra_internet.set_axis(['dispersion_internet','sigma_internet'],axis='columns',inplace=True)\n",
    "# Переименовываю столбцы"
   ]
  },
  {
   "cell_type": "code",
   "execution_count": 66,
   "metadata": {},
   "outputs": [],
   "source": [
    "disp_sigma_ultra=disp_sigma_ultra.merge(disp_sigma_ultra_messages,on='month')"
   ]
  },
  {
   "cell_type": "code",
   "execution_count": 67,
   "metadata": {},
   "outputs": [],
   "source": [
    "disp_sigma_ultra=disp_sigma_ultra.merge(disp_sigma_ultra_internet,on='month')"
   ]
  },
  {
   "cell_type": "code",
   "execution_count": 68,
   "metadata": {},
   "outputs": [],
   "source": [
    "mean_ultra=mean_ultra.merge(disp_sigma_ultra,on='month')"
   ]
  },
  {
   "cell_type": "markdown",
   "metadata": {},
   "source": [
    "## Полная Таблица дисперсии и сигма (среднеквадратичное отклонение),средних для Ультра по месяцам"
   ]
  },
  {
   "cell_type": "code",
   "execution_count": 69,
   "metadata": {},
   "outputs": [],
   "source": [
    "mean_ultra['mean_money']=group_all.query('tariff==\"ultra\"').pivot_table(index='month',values='money',aggfunc=('mean')) # Считаю среднее по прибыли"
   ]
  },
  {
   "cell_type": "code",
   "execution_count": 70,
   "metadata": {},
   "outputs": [],
   "source": [
    "mean_ultra['dispersion_money']=group_all.query('tariff==\"ultra\"').pivot_table(index='month',values='money',aggfunc=(np.var)) # Считаю дисперсию по прибыли"
   ]
  },
  {
   "cell_type": "code",
   "execution_count": 71,
   "metadata": {},
   "outputs": [],
   "source": [
    "mean_ultra['sigma_money']=np.sqrt(mean_ultra['dispersion_money']) # Считаю сигму по прибыли"
   ]
  },
  {
   "cell_type": "code",
   "execution_count": 72,
   "metadata": {
    "scrolled": true
   },
   "outputs": [
    {
     "data": {
      "text/html": [
       "<div>\n",
       "<style scoped>\n",
       "    .dataframe tbody tr th:only-of-type {\n",
       "        vertical-align: middle;\n",
       "    }\n",
       "\n",
       "    .dataframe tbody tr th {\n",
       "        vertical-align: top;\n",
       "    }\n",
       "\n",
       "    .dataframe thead th {\n",
       "        text-align: right;\n",
       "    }\n",
       "</style>\n",
       "<table border=\"1\" class=\"dataframe\">\n",
       "  <thead>\n",
       "    <tr style=\"text-align: right;\">\n",
       "      <th></th>\n",
       "      <th>mean_duration</th>\n",
       "      <th>mean_mb_used</th>\n",
       "      <th>mean_message</th>\n",
       "      <th>mean_minute_for_person</th>\n",
       "      <th>dispersion_call</th>\n",
       "      <th>sigma_call</th>\n",
       "      <th>dispersion_message</th>\n",
       "      <th>sigma_message</th>\n",
       "      <th>dispersion_internet</th>\n",
       "      <th>sigma_internet</th>\n",
       "      <th>mean_money</th>\n",
       "      <th>dispersion_money</th>\n",
       "      <th>sigma_money</th>\n",
       "    </tr>\n",
       "    <tr>\n",
       "      <th>month</th>\n",
       "      <th></th>\n",
       "      <th></th>\n",
       "      <th></th>\n",
       "      <th></th>\n",
       "      <th></th>\n",
       "      <th></th>\n",
       "      <th></th>\n",
       "      <th></th>\n",
       "      <th></th>\n",
       "      <th></th>\n",
       "      <th></th>\n",
       "      <th></th>\n",
       "      <th></th>\n",
       "    </tr>\n",
       "  </thead>\n",
       "  <tbody>\n",
       "    <tr>\n",
       "      <td>1</td>\n",
       "      <td>425.555556</td>\n",
       "      <td>13127.333333</td>\n",
       "      <td>33.777778</td>\n",
       "      <td>25.878378</td>\n",
       "      <td>72139.527778</td>\n",
       "      <td>268.588026</td>\n",
       "      <td>940.694444</td>\n",
       "      <td>30.670742</td>\n",
       "      <td>4.703700e+07</td>\n",
       "      <td>6858.352809</td>\n",
       "      <td>1950.0</td>\n",
       "      <td>0.0</td>\n",
       "      <td>0.000000</td>\n",
       "    </tr>\n",
       "    <tr>\n",
       "      <td>2</td>\n",
       "      <td>124.066667</td>\n",
       "      <td>7810.933333</td>\n",
       "      <td>12.066667</td>\n",
       "      <td>12.574324</td>\n",
       "      <td>18903.352381</td>\n",
       "      <td>137.489463</td>\n",
       "      <td>331.352381</td>\n",
       "      <td>18.203087</td>\n",
       "      <td>8.761124e+07</td>\n",
       "      <td>9360.087625</td>\n",
       "      <td>1970.0</td>\n",
       "      <td>6000.0</td>\n",
       "      <td>77.459667</td>\n",
       "    </tr>\n",
       "    <tr>\n",
       "      <td>3</td>\n",
       "      <td>320.615385</td>\n",
       "      <td>7404.384615</td>\n",
       "      <td>11.230769</td>\n",
       "      <td>28.162162</td>\n",
       "      <td>48900.589744</td>\n",
       "      <td>221.134777</td>\n",
       "      <td>107.858974</td>\n",
       "      <td>10.385518</td>\n",
       "      <td>3.259826e+07</td>\n",
       "      <td>5709.488397</td>\n",
       "      <td>1950.0</td>\n",
       "      <td>0.0</td>\n",
       "      <td>0.000000</td>\n",
       "    </tr>\n",
       "    <tr>\n",
       "      <td>4</td>\n",
       "      <td>291.888889</td>\n",
       "      <td>11828.222222</td>\n",
       "      <td>22.888889</td>\n",
       "      <td>35.500000</td>\n",
       "      <td>68159.163399</td>\n",
       "      <td>261.073100</td>\n",
       "      <td>1014.104575</td>\n",
       "      <td>31.845009</td>\n",
       "      <td>8.469395e+07</td>\n",
       "      <td>9202.931391</td>\n",
       "      <td>1950.0</td>\n",
       "      <td>0.0</td>\n",
       "      <td>0.000000</td>\n",
       "    </tr>\n",
       "    <tr>\n",
       "      <td>5</td>\n",
       "      <td>180.833333</td>\n",
       "      <td>8874.333333</td>\n",
       "      <td>27.666667</td>\n",
       "      <td>14.662162</td>\n",
       "      <td>40516.515152</td>\n",
       "      <td>201.287146</td>\n",
       "      <td>632.242424</td>\n",
       "      <td>25.144431</td>\n",
       "      <td>6.571183e+07</td>\n",
       "      <td>8106.283235</td>\n",
       "      <td>1950.0</td>\n",
       "      <td>0.0</td>\n",
       "      <td>0.000000</td>\n",
       "    </tr>\n",
       "    <tr>\n",
       "      <td>6</td>\n",
       "      <td>216.941176</td>\n",
       "      <td>11000.882353</td>\n",
       "      <td>29.470588</td>\n",
       "      <td>24.918919</td>\n",
       "      <td>35233.808824</td>\n",
       "      <td>187.706710</td>\n",
       "      <td>727.389706</td>\n",
       "      <td>26.970163</td>\n",
       "      <td>4.167793e+07</td>\n",
       "      <td>6455.844541</td>\n",
       "      <td>1950.0</td>\n",
       "      <td>0.0</td>\n",
       "      <td>0.000000</td>\n",
       "    </tr>\n",
       "    <tr>\n",
       "      <td>7</td>\n",
       "      <td>427.571429</td>\n",
       "      <td>10211.714286</td>\n",
       "      <td>37.285714</td>\n",
       "      <td>20.222973</td>\n",
       "      <td>96651.952381</td>\n",
       "      <td>310.888971</td>\n",
       "      <td>732.571429</td>\n",
       "      <td>27.066057</td>\n",
       "      <td>4.999735e+07</td>\n",
       "      <td>7070.880301</td>\n",
       "      <td>1950.0</td>\n",
       "      <td>0.0</td>\n",
       "      <td>0.000000</td>\n",
       "    </tr>\n",
       "    <tr>\n",
       "      <td>8</td>\n",
       "      <td>242.875000</td>\n",
       "      <td>7312.375000</td>\n",
       "      <td>36.437500</td>\n",
       "      <td>26.256757</td>\n",
       "      <td>55488.650000</td>\n",
       "      <td>235.560290</td>\n",
       "      <td>1126.129167</td>\n",
       "      <td>33.557848</td>\n",
       "      <td>1.979359e+07</td>\n",
       "      <td>4448.999122</td>\n",
       "      <td>1950.0</td>\n",
       "      <td>0.0</td>\n",
       "      <td>0.000000</td>\n",
       "    </tr>\n",
       "    <tr>\n",
       "      <td>9</td>\n",
       "      <td>298.444444</td>\n",
       "      <td>7967.777778</td>\n",
       "      <td>26.444444</td>\n",
       "      <td>18.148649</td>\n",
       "      <td>129051.277778</td>\n",
       "      <td>359.237077</td>\n",
       "      <td>761.777778</td>\n",
       "      <td>27.600322</td>\n",
       "      <td>4.716078e+07</td>\n",
       "      <td>6867.370708</td>\n",
       "      <td>1950.0</td>\n",
       "      <td>0.0</td>\n",
       "      <td>0.000000</td>\n",
       "    </tr>\n",
       "    <tr>\n",
       "      <td>10</td>\n",
       "      <td>355.900000</td>\n",
       "      <td>19925.600000</td>\n",
       "      <td>55.700000</td>\n",
       "      <td>24.047297</td>\n",
       "      <td>76191.211111</td>\n",
       "      <td>276.027555</td>\n",
       "      <td>4590.677778</td>\n",
       "      <td>67.754541</td>\n",
       "      <td>6.340373e+07</td>\n",
       "      <td>7962.646115</td>\n",
       "      <td>1995.0</td>\n",
       "      <td>20250.0</td>\n",
       "      <td>142.302495</td>\n",
       "    </tr>\n",
       "    <tr>\n",
       "      <td>11</td>\n",
       "      <td>359.866667</td>\n",
       "      <td>12523.066667</td>\n",
       "      <td>48.466667</td>\n",
       "      <td>36.472973</td>\n",
       "      <td>73340.266667</td>\n",
       "      <td>270.814081</td>\n",
       "      <td>2396.123810</td>\n",
       "      <td>48.950218</td>\n",
       "      <td>8.317563e+07</td>\n",
       "      <td>9120.067539</td>\n",
       "      <td>1990.0</td>\n",
       "      <td>24000.0</td>\n",
       "      <td>154.919334</td>\n",
       "    </tr>\n",
       "    <tr>\n",
       "      <td>12</td>\n",
       "      <td>690.714286</td>\n",
       "      <td>24067.000000</td>\n",
       "      <td>67.714286</td>\n",
       "      <td>32.668919</td>\n",
       "      <td>74879.238095</td>\n",
       "      <td>273.640710</td>\n",
       "      <td>2843.904762</td>\n",
       "      <td>53.328274</td>\n",
       "      <td>5.024889e+07</td>\n",
       "      <td>7088.645404</td>\n",
       "      <td>1950.0</td>\n",
       "      <td>0.0</td>\n",
       "      <td>0.000000</td>\n",
       "    </tr>\n",
       "  </tbody>\n",
       "</table>\n",
       "</div>"
      ],
      "text/plain": [
       "       mean_duration  mean_mb_used  mean_message  mean_minute_for_person  \\\n",
       "month                                                                      \n",
       "1         425.555556  13127.333333     33.777778               25.878378   \n",
       "2         124.066667   7810.933333     12.066667               12.574324   \n",
       "3         320.615385   7404.384615     11.230769               28.162162   \n",
       "4         291.888889  11828.222222     22.888889               35.500000   \n",
       "5         180.833333   8874.333333     27.666667               14.662162   \n",
       "6         216.941176  11000.882353     29.470588               24.918919   \n",
       "7         427.571429  10211.714286     37.285714               20.222973   \n",
       "8         242.875000   7312.375000     36.437500               26.256757   \n",
       "9         298.444444   7967.777778     26.444444               18.148649   \n",
       "10        355.900000  19925.600000     55.700000               24.047297   \n",
       "11        359.866667  12523.066667     48.466667               36.472973   \n",
       "12        690.714286  24067.000000     67.714286               32.668919   \n",
       "\n",
       "       dispersion_call  sigma_call  dispersion_message  sigma_message  \\\n",
       "month                                                                   \n",
       "1         72139.527778  268.588026          940.694444      30.670742   \n",
       "2         18903.352381  137.489463          331.352381      18.203087   \n",
       "3         48900.589744  221.134777          107.858974      10.385518   \n",
       "4         68159.163399  261.073100         1014.104575      31.845009   \n",
       "5         40516.515152  201.287146          632.242424      25.144431   \n",
       "6         35233.808824  187.706710          727.389706      26.970163   \n",
       "7         96651.952381  310.888971          732.571429      27.066057   \n",
       "8         55488.650000  235.560290         1126.129167      33.557848   \n",
       "9        129051.277778  359.237077          761.777778      27.600322   \n",
       "10        76191.211111  276.027555         4590.677778      67.754541   \n",
       "11        73340.266667  270.814081         2396.123810      48.950218   \n",
       "12        74879.238095  273.640710         2843.904762      53.328274   \n",
       "\n",
       "       dispersion_internet  sigma_internet  mean_money  dispersion_money  \\\n",
       "month                                                                      \n",
       "1             4.703700e+07     6858.352809      1950.0               0.0   \n",
       "2             8.761124e+07     9360.087625      1970.0            6000.0   \n",
       "3             3.259826e+07     5709.488397      1950.0               0.0   \n",
       "4             8.469395e+07     9202.931391      1950.0               0.0   \n",
       "5             6.571183e+07     8106.283235      1950.0               0.0   \n",
       "6             4.167793e+07     6455.844541      1950.0               0.0   \n",
       "7             4.999735e+07     7070.880301      1950.0               0.0   \n",
       "8             1.979359e+07     4448.999122      1950.0               0.0   \n",
       "9             4.716078e+07     6867.370708      1950.0               0.0   \n",
       "10            6.340373e+07     7962.646115      1995.0           20250.0   \n",
       "11            8.317563e+07     9120.067539      1990.0           24000.0   \n",
       "12            5.024889e+07     7088.645404      1950.0               0.0   \n",
       "\n",
       "       sigma_money  \n",
       "month               \n",
       "1         0.000000  \n",
       "2        77.459667  \n",
       "3         0.000000  \n",
       "4         0.000000  \n",
       "5         0.000000  \n",
       "6         0.000000  \n",
       "7         0.000000  \n",
       "8         0.000000  \n",
       "9         0.000000  \n",
       "10      142.302495  \n",
       "11      154.919334  \n",
       "12        0.000000  "
      ]
     },
     "execution_count": 72,
     "metadata": {},
     "output_type": "execute_result"
    }
   ],
   "source": [
    "mean_ultra.head(12)"
   ]
  },
  {
   "cell_type": "code",
   "execution_count": 73,
   "metadata": {},
   "outputs": [
    {
     "name": "stdout",
     "output_type": "stream",
     "text": [
      "<class 'pandas.core.frame.DataFrame'>\n",
      "Int64Index: 12 entries, 1 to 12\n",
      "Data columns (total 13 columns):\n",
      "mean_duration             12 non-null float64\n",
      "mean_mb_used              12 non-null float64\n",
      "mean_message              12 non-null float64\n",
      "mean_minute_for_person    12 non-null float64\n",
      "dispersion_call           12 non-null float64\n",
      "sigma_call                12 non-null float64\n",
      "dispersion_message        12 non-null float64\n",
      "sigma_message             12 non-null float64\n",
      "dispersion_internet       12 non-null float64\n",
      "sigma_internet            12 non-null float64\n",
      "mean_money                12 non-null float64\n",
      "dispersion_money          12 non-null float64\n",
      "sigma_money               12 non-null float64\n",
      "dtypes: float64(13)\n",
      "memory usage: 1.3 KB\n"
     ]
    }
   ],
   "source": [
    "mean_ultra.info()"
   ]
  },
  {
   "cell_type": "markdown",
   "metadata": {},
   "source": [
    "---\n",
    "## Комментарий от наставника\n",
    "\n",
    "Стоит добавить и столбцы по прибыли: среднее, дисперсию.\n",
    "\n",
    "---"
   ]
  },
  {
   "cell_type": "markdown",
   "metadata": {},
   "source": [
    "Посчитал и внес в таблицу выше"
   ]
  },
  {
   "cell_type": "markdown",
   "metadata": {},
   "source": [
    "## Ниже срез по месяцам для Смарт и расчета средних значений по звонка, сообщениям, интернету"
   ]
  },
  {
   "cell_type": "code",
   "execution_count": 74,
   "metadata": {},
   "outputs": [],
   "source": [
    "mean_smart=(group_all\n",
    "     .query('tariff==\"smart\"')\n",
    "     .pivot_table(index='month',values=('duration','message_date','mb_used'),aggfunc=('mean'))    \n",
    ")"
   ]
  },
  {
   "cell_type": "markdown",
   "metadata": {},
   "source": [
    "## Среднее значение mean_duration mean_mb_used mean_message для тарифа Smart. "
   ]
  },
  {
   "cell_type": "code",
   "execution_count": 75,
   "metadata": {},
   "outputs": [
    {
     "data": {
      "text/html": [
       "<div>\n",
       "<style scoped>\n",
       "    .dataframe tbody tr th:only-of-type {\n",
       "        vertical-align: middle;\n",
       "    }\n",
       "\n",
       "    .dataframe tbody tr th {\n",
       "        vertical-align: top;\n",
       "    }\n",
       "\n",
       "    .dataframe thead th {\n",
       "        text-align: right;\n",
       "    }\n",
       "</style>\n",
       "<table border=\"1\" class=\"dataframe\">\n",
       "  <thead>\n",
       "    <tr style=\"text-align: right;\">\n",
       "      <th></th>\n",
       "      <th>mean_duration</th>\n",
       "      <th>mean_mb_used</th>\n",
       "      <th>mean_message</th>\n",
       "    </tr>\n",
       "    <tr>\n",
       "      <th>month</th>\n",
       "      <th></th>\n",
       "      <th></th>\n",
       "      <th></th>\n",
       "    </tr>\n",
       "  </thead>\n",
       "  <tbody>\n",
       "    <tr>\n",
       "      <td>1</td>\n",
       "      <td>202.970588</td>\n",
       "      <td>8503.352941</td>\n",
       "      <td>18.235294</td>\n",
       "    </tr>\n",
       "    <tr>\n",
       "      <td>2</td>\n",
       "      <td>167.458333</td>\n",
       "      <td>6783.375000</td>\n",
       "      <td>13.000000</td>\n",
       "    </tr>\n",
       "    <tr>\n",
       "      <td>3</td>\n",
       "      <td>264.000000</td>\n",
       "      <td>9892.368421</td>\n",
       "      <td>21.052632</td>\n",
       "    </tr>\n",
       "    <tr>\n",
       "      <td>4</td>\n",
       "      <td>229.885714</td>\n",
       "      <td>7876.714286</td>\n",
       "      <td>21.114286</td>\n",
       "    </tr>\n",
       "    <tr>\n",
       "      <td>5</td>\n",
       "      <td>194.172414</td>\n",
       "      <td>9480.241379</td>\n",
       "      <td>17.724138</td>\n",
       "    </tr>\n",
       "    <tr>\n",
       "      <td>6</td>\n",
       "      <td>184.739130</td>\n",
       "      <td>8206.521739</td>\n",
       "      <td>13.652174</td>\n",
       "    </tr>\n",
       "    <tr>\n",
       "      <td>7</td>\n",
       "      <td>239.972973</td>\n",
       "      <td>8793.810811</td>\n",
       "      <td>18.135135</td>\n",
       "    </tr>\n",
       "    <tr>\n",
       "      <td>8</td>\n",
       "      <td>212.000000</td>\n",
       "      <td>9662.617647</td>\n",
       "      <td>16.970588</td>\n",
       "    </tr>\n",
       "    <tr>\n",
       "      <td>9</td>\n",
       "      <td>260.769231</td>\n",
       "      <td>9285.076923</td>\n",
       "      <td>21.115385</td>\n",
       "    </tr>\n",
       "    <tr>\n",
       "      <td>10</td>\n",
       "      <td>259.457143</td>\n",
       "      <td>8452.085714</td>\n",
       "      <td>17.914286</td>\n",
       "    </tr>\n",
       "    <tr>\n",
       "      <td>11</td>\n",
       "      <td>268.407407</td>\n",
       "      <td>9993.259259</td>\n",
       "      <td>22.851852</td>\n",
       "    </tr>\n",
       "    <tr>\n",
       "      <td>12</td>\n",
       "      <td>443.111111</td>\n",
       "      <td>17103.148148</td>\n",
       "      <td>30.629630</td>\n",
       "    </tr>\n",
       "  </tbody>\n",
       "</table>\n",
       "</div>"
      ],
      "text/plain": [
       "       mean_duration  mean_mb_used  mean_message\n",
       "month                                           \n",
       "1         202.970588   8503.352941     18.235294\n",
       "2         167.458333   6783.375000     13.000000\n",
       "3         264.000000   9892.368421     21.052632\n",
       "4         229.885714   7876.714286     21.114286\n",
       "5         194.172414   9480.241379     17.724138\n",
       "6         184.739130   8206.521739     13.652174\n",
       "7         239.972973   8793.810811     18.135135\n",
       "8         212.000000   9662.617647     16.970588\n",
       "9         260.769231   9285.076923     21.115385\n",
       "10        259.457143   8452.085714     17.914286\n",
       "11        268.407407   9993.259259     22.851852\n",
       "12        443.111111  17103.148148     30.629630"
      ]
     },
     "execution_count": 75,
     "metadata": {},
     "output_type": "execute_result"
    }
   ],
   "source": [
    "mean_smart.set_axis(['mean_duration','mean_mb_used','mean_message'],axis='columns',inplace=True)\n",
    "mean_smart"
   ]
  },
  {
   "cell_type": "code",
   "execution_count": 76,
   "metadata": {},
   "outputs": [
    {
     "data": {
      "text/plain": [
       "<matplotlib.axes._subplots.AxesSubplot at 0x7fd33e055c18>"
      ]
     },
     "execution_count": 76,
     "metadata": {},
     "output_type": "execute_result"
    },
    {
     "data": {
      "image/png": "[encoded data removed]",
      "text/plain": [
       "<Figure size 936x432 with 1 Axes>"
      ]
     },
     "metadata": {
      "needs_background": "light"
     },
     "output_type": "display_data"
    }
   ],
   "source": [
    "mean_smart.plot(y='mean_duration',grid=True,figsize=(13,6),style='o-',kind='bar',label='Среднее значение минут разговора для всех пользователей тарифа Smart',alpha=0.5)"
   ]
  },
  {
   "cell_type": "markdown",
   "metadata": {},
   "source": [
    "Среднее время разговора для каждого месяца Смарт"
   ]
  },
  {
   "cell_type": "code",
   "execution_count": 77,
   "metadata": {},
   "outputs": [],
   "source": [
    "mean_smart['mean_minute_for_person']=tariff_smart['duration']/len(group_all.query('tariff==\"smart\"'))"
   ]
  },
  {
   "cell_type": "code",
   "execution_count": 78,
   "metadata": {
    "scrolled": true
   },
   "outputs": [
    {
     "data": {
      "text/html": [
       "<div>\n",
       "<style scoped>\n",
       "    .dataframe tbody tr th:only-of-type {\n",
       "        vertical-align: middle;\n",
       "    }\n",
       "\n",
       "    .dataframe tbody tr th {\n",
       "        vertical-align: top;\n",
       "    }\n",
       "\n",
       "    .dataframe thead th {\n",
       "        text-align: right;\n",
       "    }\n",
       "</style>\n",
       "<table border=\"1\" class=\"dataframe\">\n",
       "  <thead>\n",
       "    <tr style=\"text-align: right;\">\n",
       "      <th></th>\n",
       "      <th>user_id</th>\n",
       "      <th>month</th>\n",
       "      <th>message_date</th>\n",
       "      <th>duration</th>\n",
       "      <th>mb_used</th>\n",
       "      <th>city</th>\n",
       "      <th>tariff</th>\n",
       "      <th>money</th>\n",
       "    </tr>\n",
       "  </thead>\n",
       "  <tbody>\n",
       "    <tr>\n",
       "      <td>483</td>\n",
       "      <td>1001</td>\n",
       "      <td>11</td>\n",
       "      <td>0.0</td>\n",
       "      <td>429.0</td>\n",
       "      <td>18405.0</td>\n",
       "      <td>Москва</td>\n",
       "      <td>smart</td>\n",
       "      <td>1150.0</td>\n",
       "    </tr>\n",
       "    <tr>\n",
       "      <td>167</td>\n",
       "      <td>1002</td>\n",
       "      <td>6</td>\n",
       "      <td>4.0</td>\n",
       "      <td>117.0</td>\n",
       "      <td>10844.0</td>\n",
       "      <td>Стерлитамак</td>\n",
       "      <td>smart</td>\n",
       "      <td>550.0</td>\n",
       "    </tr>\n",
       "    <tr>\n",
       "      <td>0</td>\n",
       "      <td>1005</td>\n",
       "      <td>1</td>\n",
       "      <td>7.0</td>\n",
       "      <td>95.0</td>\n",
       "      <td>2724.0</td>\n",
       "      <td>Набережные Челны</td>\n",
       "      <td>smart</td>\n",
       "      <td>550.0</td>\n",
       "    </tr>\n",
       "    <tr>\n",
       "      <td>418</td>\n",
       "      <td>1006</td>\n",
       "      <td>2</td>\n",
       "      <td>0.0</td>\n",
       "      <td>42.0</td>\n",
       "      <td>1391.0</td>\n",
       "      <td>Ульяновск</td>\n",
       "      <td>smart</td>\n",
       "      <td>550.0</td>\n",
       "    </tr>\n",
       "    <tr>\n",
       "      <td>91</td>\n",
       "      <td>1007</td>\n",
       "      <td>4</td>\n",
       "      <td>11.0</td>\n",
       "      <td>196.0</td>\n",
       "      <td>8013.0</td>\n",
       "      <td>Москва</td>\n",
       "      <td>smart</td>\n",
       "      <td>550.0</td>\n",
       "    </tr>\n",
       "  </tbody>\n",
       "</table>\n",
       "</div>"
      ],
      "text/plain": [
       "     user_id  month  message_date  duration  mb_used              city tariff  \\\n",
       "483     1001     11           0.0     429.0  18405.0            Москва  smart   \n",
       "167     1002      6           4.0     117.0  10844.0       Стерлитамак  smart   \n",
       "0       1005      1           7.0      95.0   2724.0  Набережные Челны  smart   \n",
       "418     1006      2           0.0      42.0   1391.0         Ульяновск  smart   \n",
       "91      1007      4          11.0     196.0   8013.0            Москва  smart   \n",
       "\n",
       "      money  \n",
       "483  1150.0  \n",
       "167   550.0  \n",
       "0     550.0  \n",
       "418   550.0  \n",
       "91    550.0  "
      ]
     },
     "execution_count": 78,
     "metadata": {},
     "output_type": "execute_result"
    }
   ],
   "source": [
    "smart_person_calls=group_all.query('tariff==\"smart\"')# записываю в переменную всех пользователей Smart для подсчета дисперсии \n",
    "smart_person_calls.head()"
   ]
  },
  {
   "cell_type": "markdown",
   "metadata": {},
   "source": [
    "# Считаю дисперсию и отклонение для тарифа Smart по месяцам"
   ]
  },
  {
   "cell_type": "code",
   "execution_count": 79,
   "metadata": {},
   "outputs": [
    {
     "data": {
      "text/html": [
       "<div>\n",
       "<style scoped>\n",
       "    .dataframe tbody tr th:only-of-type {\n",
       "        vertical-align: middle;\n",
       "    }\n",
       "\n",
       "    .dataframe tbody tr th {\n",
       "        vertical-align: top;\n",
       "    }\n",
       "\n",
       "    .dataframe thead th {\n",
       "        text-align: right;\n",
       "    }\n",
       "</style>\n",
       "<table border=\"1\" class=\"dataframe\">\n",
       "  <thead>\n",
       "    <tr style=\"text-align: right;\">\n",
       "      <th></th>\n",
       "      <th>user_id</th>\n",
       "      <th>month</th>\n",
       "      <th>message_date</th>\n",
       "      <th>duration</th>\n",
       "      <th>mb_used</th>\n",
       "      <th>city</th>\n",
       "      <th>tariff</th>\n",
       "      <th>money</th>\n",
       "    </tr>\n",
       "  </thead>\n",
       "  <tbody>\n",
       "    <tr>\n",
       "      <td>483</td>\n",
       "      <td>1001</td>\n",
       "      <td>11</td>\n",
       "      <td>0.0</td>\n",
       "      <td>429.0</td>\n",
       "      <td>18405.0</td>\n",
       "      <td>Москва</td>\n",
       "      <td>smart</td>\n",
       "      <td>1150.0</td>\n",
       "    </tr>\n",
       "    <tr>\n",
       "      <td>167</td>\n",
       "      <td>1002</td>\n",
       "      <td>6</td>\n",
       "      <td>4.0</td>\n",
       "      <td>117.0</td>\n",
       "      <td>10844.0</td>\n",
       "      <td>Стерлитамак</td>\n",
       "      <td>smart</td>\n",
       "      <td>550.0</td>\n",
       "    </tr>\n",
       "    <tr>\n",
       "      <td>0</td>\n",
       "      <td>1005</td>\n",
       "      <td>1</td>\n",
       "      <td>7.0</td>\n",
       "      <td>95.0</td>\n",
       "      <td>2724.0</td>\n",
       "      <td>Набережные Челны</td>\n",
       "      <td>smart</td>\n",
       "      <td>550.0</td>\n",
       "    </tr>\n",
       "    <tr>\n",
       "      <td>418</td>\n",
       "      <td>1006</td>\n",
       "      <td>2</td>\n",
       "      <td>0.0</td>\n",
       "      <td>42.0</td>\n",
       "      <td>1391.0</td>\n",
       "      <td>Ульяновск</td>\n",
       "      <td>smart</td>\n",
       "      <td>550.0</td>\n",
       "    </tr>\n",
       "    <tr>\n",
       "      <td>91</td>\n",
       "      <td>1007</td>\n",
       "      <td>4</td>\n",
       "      <td>11.0</td>\n",
       "      <td>196.0</td>\n",
       "      <td>8013.0</td>\n",
       "      <td>Москва</td>\n",
       "      <td>smart</td>\n",
       "      <td>550.0</td>\n",
       "    </tr>\n",
       "  </tbody>\n",
       "</table>\n",
       "</div>"
      ],
      "text/plain": [
       "     user_id  month  message_date  duration  mb_used              city tariff  \\\n",
       "483     1001     11           0.0     429.0  18405.0            Москва  smart   \n",
       "167     1002      6           4.0     117.0  10844.0       Стерлитамак  smart   \n",
       "0       1005      1           7.0      95.0   2724.0  Набережные Челны  smart   \n",
       "418     1006      2           0.0      42.0   1391.0         Ульяновск  smart   \n",
       "91      1007      4          11.0     196.0   8013.0            Москва  smart   \n",
       "\n",
       "      money  \n",
       "483  1150.0  \n",
       "167   550.0  \n",
       "0     550.0  \n",
       "418   550.0  \n",
       "91    550.0  "
      ]
     },
     "execution_count": 79,
     "metadata": {},
     "output_type": "execute_result"
    }
   ],
   "source": [
    "smart_person_calls=group_all.query('tariff==\"smart\"')# записываю в переменную всех пользователей smart для подсчета дисперсии \n",
    "smart_person_calls.head()"
   ]
  },
  {
   "cell_type": "markdown",
   "metadata": {},
   "source": [
    "### Считаю дисперсию по всем показателям Smart"
   ]
  },
  {
   "cell_type": "code",
   "execution_count": 80,
   "metadata": {},
   "outputs": [],
   "source": [
    "disp_sigma_smart=smart_person_calls.pivot_table(index='month',values='duration',aggfunc=(np.var))\n",
    "#Считаю дисперсию звонков"
   ]
  },
  {
   "cell_type": "code",
   "execution_count": 81,
   "metadata": {},
   "outputs": [],
   "source": [
    "disp_sigma_smart_messages=smart_person_calls.pivot_table(index='month',values='message_date',aggfunc=(np.var))\n",
    "#Считаю дисперсию сообщений"
   ]
  },
  {
   "cell_type": "code",
   "execution_count": 82,
   "metadata": {},
   "outputs": [],
   "source": [
    "disp_sigma_smart_internet=smart_person_calls.pivot_table(index='month',values='mb_used',aggfunc=(np.var))\n",
    "#Считаю дисперсию интернет"
   ]
  },
  {
   "cell_type": "markdown",
   "metadata": {},
   "source": [
    "### Считаю стандартное отклонение по всем показателям Smart"
   ]
  },
  {
   "cell_type": "code",
   "execution_count": 83,
   "metadata": {},
   "outputs": [],
   "source": [
    "disp_sigma_smart['sigma']=disp_sigma_smart['duration'].apply(np.sqrt)\n",
    "#Считаю стандартное отклонение по звонкам"
   ]
  },
  {
   "cell_type": "code",
   "execution_count": 84,
   "metadata": {},
   "outputs": [],
   "source": [
    "disp_sigma_smart_messages['sigma']=disp_sigma_smart_messages['message_date'].apply(np.sqrt)\n",
    "#Считаю стандартное отклонение по cообщениям"
   ]
  },
  {
   "cell_type": "code",
   "execution_count": 85,
   "metadata": {},
   "outputs": [],
   "source": [
    "disp_sigma_smart_internet['sigma']=disp_sigma_smart_internet['mb_used'].apply(np.sqrt)\n",
    "#Считаю стандартное отклонение по интернетуsmart"
   ]
  },
  {
   "cell_type": "code",
   "execution_count": 86,
   "metadata": {},
   "outputs": [],
   "source": [
    "disp_sigma_smart.set_axis(['dispersion_call','sigma_call'],axis='columns',inplace=True)\n",
    "disp_sigma_smart_messages.set_axis(['dispersion_message','sigma_message'],axis='columns',inplace=True)\n",
    "disp_sigma_smart_internet.set_axis(['dispersion_internet','sigma_internet'],axis='columns',inplace=True)\n",
    "# Переименовываю столбцы"
   ]
  },
  {
   "cell_type": "code",
   "execution_count": 87,
   "metadata": {},
   "outputs": [],
   "source": [
    "disp_sigma_smart=disp_sigma_smart.merge(disp_sigma_smart_messages,on='month')"
   ]
  },
  {
   "cell_type": "code",
   "execution_count": 88,
   "metadata": {},
   "outputs": [],
   "source": [
    "disp_sigma_smart=disp_sigma_smart.merge(disp_sigma_smart_internet,on='month')"
   ]
  },
  {
   "cell_type": "code",
   "execution_count": 89,
   "metadata": {},
   "outputs": [],
   "source": [
    "mean_smart['mean_money']=group_all.query('tariff==\"smart\"').pivot_table(index='month',values='money',aggfunc=('mean')) # Считаю среднее по прибыли"
   ]
  },
  {
   "cell_type": "code",
   "execution_count": 90,
   "metadata": {},
   "outputs": [],
   "source": [
    "mean_smart['dispersion_money']=group_all.query('tariff==\"smart\"').pivot_table(index='month',values='money',aggfunc=(np.var)) # Считаю среднее по прибыли"
   ]
  },
  {
   "cell_type": "code",
   "execution_count": 91,
   "metadata": {},
   "outputs": [],
   "source": [
    "mean_smart['sigma_money']=np.sqrt(mean_smart['dispersion_money'])"
   ]
  },
  {
   "cell_type": "code",
   "execution_count": 92,
   "metadata": {},
   "outputs": [],
   "source": [
    "mean_smart=mean_smart.merge(disp_sigma_smart,on='month')"
   ]
  },
  {
   "cell_type": "markdown",
   "metadata": {},
   "source": [
    "# Полная Таблица дисперсии и сигма (среднеквадратичное отклонение),средних для Smart по месяцам"
   ]
  },
  {
   "cell_type": "code",
   "execution_count": 93,
   "metadata": {},
   "outputs": [
    {
     "data": {
      "text/html": [
       "<div>\n",
       "<style scoped>\n",
       "    .dataframe tbody tr th:only-of-type {\n",
       "        vertical-align: middle;\n",
       "    }\n",
       "\n",
       "    .dataframe tbody tr th {\n",
       "        vertical-align: top;\n",
       "    }\n",
       "\n",
       "    .dataframe thead th {\n",
       "        text-align: right;\n",
       "    }\n",
       "</style>\n",
       "<table border=\"1\" class=\"dataframe\">\n",
       "  <thead>\n",
       "    <tr style=\"text-align: right;\">\n",
       "      <th></th>\n",
       "      <th>mean_duration</th>\n",
       "      <th>mean_mb_used</th>\n",
       "      <th>mean_message</th>\n",
       "      <th>mean_minute_for_person</th>\n",
       "      <th>mean_money</th>\n",
       "      <th>dispersion_money</th>\n",
       "      <th>sigma_money</th>\n",
       "      <th>dispersion_call</th>\n",
       "      <th>sigma_call</th>\n",
       "      <th>dispersion_message</th>\n",
       "      <th>sigma_message</th>\n",
       "      <th>dispersion_internet</th>\n",
       "      <th>sigma_internet</th>\n",
       "    </tr>\n",
       "    <tr>\n",
       "      <th>month</th>\n",
       "      <th></th>\n",
       "      <th></th>\n",
       "      <th></th>\n",
       "      <th></th>\n",
       "      <th></th>\n",
       "      <th></th>\n",
       "      <th></th>\n",
       "      <th></th>\n",
       "      <th></th>\n",
       "      <th></th>\n",
       "      <th></th>\n",
       "      <th></th>\n",
       "      <th></th>\n",
       "    </tr>\n",
       "  </thead>\n",
       "  <tbody>\n",
       "    <tr>\n",
       "      <td>1</td>\n",
       "      <td>202.970588</td>\n",
       "      <td>8503.352941</td>\n",
       "      <td>18.235294</td>\n",
       "      <td>19.717143</td>\n",
       "      <td>703.411765</td>\n",
       "      <td>192149.219251</td>\n",
       "      <td>438.348285</td>\n",
       "      <td>23683.605169</td>\n",
       "      <td>153.894786</td>\n",
       "      <td>262.367201</td>\n",
       "      <td>16.197753</td>\n",
       "      <td>4.143752e+07</td>\n",
       "      <td>6437.197903</td>\n",
       "    </tr>\n",
       "    <tr>\n",
       "      <td>2</td>\n",
       "      <td>167.458333</td>\n",
       "      <td>6783.375000</td>\n",
       "      <td>13.000000</td>\n",
       "      <td>11.482857</td>\n",
       "      <td>556.000000</td>\n",
       "      <td>695.739130</td>\n",
       "      <td>26.376867</td>\n",
       "      <td>18261.041667</td>\n",
       "      <td>135.133422</td>\n",
       "      <td>268.347826</td>\n",
       "      <td>16.381326</td>\n",
       "      <td>2.067254e+07</td>\n",
       "      <td>4546.706365</td>\n",
       "    </tr>\n",
       "    <tr>\n",
       "      <td>3</td>\n",
       "      <td>264.000000</td>\n",
       "      <td>9892.368421</td>\n",
       "      <td>21.052632</td>\n",
       "      <td>14.331429</td>\n",
       "      <td>689.421053</td>\n",
       "      <td>159156.479532</td>\n",
       "      <td>398.944206</td>\n",
       "      <td>23345.111111</td>\n",
       "      <td>152.791070</td>\n",
       "      <td>362.052632</td>\n",
       "      <td>19.027681</td>\n",
       "      <td>2.700547e+07</td>\n",
       "      <td>5196.679017</td>\n",
       "    </tr>\n",
       "    <tr>\n",
       "      <td>4</td>\n",
       "      <td>229.885714</td>\n",
       "      <td>7876.714286</td>\n",
       "      <td>21.114286</td>\n",
       "      <td>22.988571</td>\n",
       "      <td>572.485714</td>\n",
       "      <td>11200.727731</td>\n",
       "      <td>105.833491</td>\n",
       "      <td>20855.927731</td>\n",
       "      <td>144.415815</td>\n",
       "      <td>425.398319</td>\n",
       "      <td>20.625187</td>\n",
       "      <td>1.784717e+07</td>\n",
       "      <td>4224.590900</td>\n",
       "    </tr>\n",
       "    <tr>\n",
       "      <td>5</td>\n",
       "      <td>194.172414</td>\n",
       "      <td>9480.241379</td>\n",
       "      <td>17.724138</td>\n",
       "      <td>16.088571</td>\n",
       "      <td>738.206897</td>\n",
       "      <td>253891.312808</td>\n",
       "      <td>503.876287</td>\n",
       "      <td>21599.933498</td>\n",
       "      <td>146.969158</td>\n",
       "      <td>338.492611</td>\n",
       "      <td>18.398169</td>\n",
       "      <td>4.838563e+07</td>\n",
       "      <td>6955.978301</td>\n",
       "    </tr>\n",
       "  </tbody>\n",
       "</table>\n",
       "</div>"
      ],
      "text/plain": [
       "       mean_duration  mean_mb_used  mean_message  mean_minute_for_person  \\\n",
       "month                                                                      \n",
       "1         202.970588   8503.352941     18.235294               19.717143   \n",
       "2         167.458333   6783.375000     13.000000               11.482857   \n",
       "3         264.000000   9892.368421     21.052632               14.331429   \n",
       "4         229.885714   7876.714286     21.114286               22.988571   \n",
       "5         194.172414   9480.241379     17.724138               16.088571   \n",
       "\n",
       "       mean_money  dispersion_money  sigma_money  dispersion_call  sigma_call  \\\n",
       "month                                                                           \n",
       "1      703.411765     192149.219251   438.348285     23683.605169  153.894786   \n",
       "2      556.000000        695.739130    26.376867     18261.041667  135.133422   \n",
       "3      689.421053     159156.479532   398.944206     23345.111111  152.791070   \n",
       "4      572.485714      11200.727731   105.833491     20855.927731  144.415815   \n",
       "5      738.206897     253891.312808   503.876287     21599.933498  146.969158   \n",
       "\n",
       "       dispersion_message  sigma_message  dispersion_internet  sigma_internet  \n",
       "month                                                                          \n",
       "1              262.367201      16.197753         4.143752e+07     6437.197903  \n",
       "2              268.347826      16.381326         2.067254e+07     4546.706365  \n",
       "3              362.052632      19.027681         2.700547e+07     5196.679017  \n",
       "4              425.398319      20.625187         1.784717e+07     4224.590900  \n",
       "5              338.492611      18.398169         4.838563e+07     6955.978301  "
      ]
     },
     "execution_count": 93,
     "metadata": {},
     "output_type": "execute_result"
    }
   ],
   "source": [
    "mean_smart.head()"
   ]
  },
  {
   "cell_type": "code",
   "execution_count": 94,
   "metadata": {},
   "outputs": [
    {
     "name": "stdout",
     "output_type": "stream",
     "text": [
      "<class 'pandas.core.frame.DataFrame'>\n",
      "Int64Index: 12 entries, 1 to 12\n",
      "Data columns (total 13 columns):\n",
      "mean_duration             12 non-null float64\n",
      "mean_mb_used              12 non-null float64\n",
      "mean_message              12 non-null float64\n",
      "mean_minute_for_person    12 non-null float64\n",
      "mean_money                12 non-null float64\n",
      "dispersion_money          12 non-null float64\n",
      "sigma_money               12 non-null float64\n",
      "dispersion_call           12 non-null float64\n",
      "sigma_call                12 non-null float64\n",
      "dispersion_message        12 non-null float64\n",
      "sigma_message             12 non-null float64\n",
      "dispersion_internet       12 non-null float64\n",
      "sigma_internet            12 non-null float64\n",
      "dtypes: float64(13)\n",
      "memory usage: 1.3 KB\n"
     ]
    }
   ],
   "source": [
    "mean_smart.info()"
   ]
  },
  {
   "cell_type": "markdown",
   "metadata": {},
   "source": [
    "## Возвращаюсь к дата фрэйм ultra_person_calls и smart_person_calls, в котором все пользователи Ультра и Смарт построим гистограммы."
   ]
  },
  {
   "cell_type": "code",
   "execution_count": 95,
   "metadata": {},
   "outputs": [],
   "source": [
    "#ax=ultra_person_calls.hist(column='duration',density=True, bins=30)\n",
    "#smart_person_calls.hist(column='duration',density=True, bins=30,alpha=0.5,ax=ax)"
   ]
  },
  {
   "cell_type": "markdown",
   "metadata": {},
   "source": [
    "### Гистограмма распределия длительности звонков пользователей Ультра"
   ]
  },
  {
   "cell_type": "code",
   "execution_count": 96,
   "metadata": {},
   "outputs": [
    {
     "data": {
      "text/plain": [
       "<matplotlib.axes._subplots.AxesSubplot at 0x7fd33dffc208>"
      ]
     },
     "execution_count": 96,
     "metadata": {},
     "output_type": "execute_result"
    },
    {
     "data": {
      "image/png": "[encoded data removed]",
      "text/plain": [
       "<Figure size 432x288 with 1 Axes>"
      ]
     },
     "metadata": {
      "needs_background": "light"
     },
     "output_type": "display_data"
    }
   ],
   "source": [
    "sns.distplot(ultra_person_calls['duration'],bins=30)"
   ]
  },
  {
   "cell_type": "markdown",
   "metadata": {},
   "source": [
    "По гистограмме можно сделать вывод, что больше всего пользователи тарифа Ультра разговаривают около 1 мин "
   ]
  },
  {
   "cell_type": "markdown",
   "metadata": {},
   "source": [
    "### Гистограмма распределия длительности звонков пользователей Смарт"
   ]
  },
  {
   "cell_type": "code",
   "execution_count": 97,
   "metadata": {},
   "outputs": [
    {
     "data": {
      "text/plain": [
       "<matplotlib.axes._subplots.AxesSubplot at 0x7fd33defdbe0>"
      ]
     },
     "execution_count": 97,
     "metadata": {},
     "output_type": "execute_result"
    },
    {
     "data": {
      "image/png": "[encoded data removed]",
      "text/plain": [
       "<Figure size 432x288 with 1 Axes>"
      ]
     },
     "metadata": {
      "needs_background": "light"
     },
     "output_type": "display_data"
    }
   ],
   "source": [
    "sns.distplot(smart_person_calls['duration'],bins=30)"
   ]
  },
  {
   "cell_type": "markdown",
   "metadata": {},
   "source": [
    "По гистограмме можно сделать вывод, что больше всего пользователи тарифа Смарт разговаривают около 100 мин "
   ]
  },
  {
   "cell_type": "markdown",
   "metadata": {},
   "source": [
    "### Гистограмма распределия количества отправленных смс пользователей Ультра"
   ]
  },
  {
   "cell_type": "code",
   "execution_count": 98,
   "metadata": {},
   "outputs": [
    {
     "data": {
      "text/plain": [
       "<matplotlib.axes._subplots.AxesSubplot at 0x7fd33d2af748>"
      ]
     },
     "execution_count": 98,
     "metadata": {},
     "output_type": "execute_result"
    },
    {
     "data": {
      "image/png": "[encoded data removed]",
      "text/plain": [
       "<Figure size 432x288 with 1 Axes>"
      ]
     },
     "metadata": {
      "needs_background": "light"
     },
     "output_type": "display_data"
    }
   ],
   "source": [
    "sns.distplot(ultra_person_calls['message_date'],bins=30)"
   ]
  },
  {
   "cell_type": "markdown",
   "metadata": {},
   "source": [
    "По гистограмме можно сделать вывод, что больше всего пользователи тарифа Ультра отправляют около 10 смс"
   ]
  },
  {
   "cell_type": "markdown",
   "metadata": {},
   "source": [
    "### Гистограмма распределия количества отправленных смс пользователей Смарт"
   ]
  },
  {
   "cell_type": "code",
   "execution_count": 99,
   "metadata": {},
   "outputs": [
    {
     "data": {
      "text/plain": [
       "<matplotlib.axes._subplots.AxesSubplot at 0x7fd33d1cdda0>"
      ]
     },
     "execution_count": 99,
     "metadata": {},
     "output_type": "execute_result"
    },
    {
     "data": {
      "image/png": "[encoded data removed]",
      "text/plain": [
       "<Figure size 432x288 with 1 Axes>"
      ]
     },
     "metadata": {
      "needs_background": "light"
     },
     "output_type": "display_data"
    }
   ],
   "source": [
    "sns.distplot(smart_person_calls['message_date'],bins=30)"
   ]
  },
  {
   "cell_type": "markdown",
   "metadata": {},
   "source": [
    "По гистограмме можно сделать вывод, что больше всего пользователи тарифа Смарт отправляют около 0-5 смс"
   ]
  },
  {
   "cell_type": "markdown",
   "metadata": {},
   "source": [
    "### Гистограмма распределия количества потраченного интернета пользователей Ультра"
   ]
  },
  {
   "cell_type": "code",
   "execution_count": 100,
   "metadata": {},
   "outputs": [
    {
     "data": {
      "text/plain": [
       "<matplotlib.axes._subplots.AxesSubplot at 0x7fd33d114160>"
      ]
     },
     "execution_count": 100,
     "metadata": {},
     "output_type": "execute_result"
    },
    {
     "data": {
      "image/png": "[encoded data removed]",
      "text/plain": [
       "<Figure size 432x288 with 1 Axes>"
      ]
     },
     "metadata": {
      "needs_background": "light"
     },
     "output_type": "display_data"
    }
   ],
   "source": [
    "sns.distplot(ultra_person_calls['mb_used'],bins=30)"
   ]
  },
  {
   "cell_type": "markdown",
   "metadata": {},
   "source": [
    "По гистограмме можно сделать вывод, что больше всего пользователи тарифа Ультра используют около 2000 гб"
   ]
  },
  {
   "cell_type": "markdown",
   "metadata": {},
   "source": [
    "### Гистограмма распределия количества потраченного интернета пользователей Смарт"
   ]
  },
  {
   "cell_type": "code",
   "execution_count": 101,
   "metadata": {},
   "outputs": [
    {
     "data": {
      "text/plain": [
       "<matplotlib.axes._subplots.AxesSubplot at 0x7fd33d0b4cc0>"
      ]
     },
     "execution_count": 101,
     "metadata": {},
     "output_type": "execute_result"
    },
    {
     "data": {
      "image/png": "[encoded data removed]",
      "text/plain": [
       "<Figure size 432x288 with 1 Axes>"
      ]
     },
     "metadata": {
      "needs_background": "light"
     },
     "output_type": "display_data"
    }
   ],
   "source": [
    "sns.distplot(smart_person_calls['mb_used'],bins=30)"
   ]
  },
  {
   "cell_type": "markdown",
   "metadata": {},
   "source": [
    "По гистограмме можно сделать вывод, что больше всего пользователи тарифа Смарт используют около 10000 гб"
   ]
  },
  {
   "cell_type": "code",
   "execution_count": 103,
   "metadata": {},
   "outputs": [],
   "source": [
    "#ax=ultra_person_calls.hist(column='message_date',density=True, bins=30)\n",
    "#smart_person_calls.hist(column='message_date',density=True, bins=30,ax=ax,alpha=0.5)"
   ]
  },
  {
   "cell_type": "markdown",
   "metadata": {},
   "source": [
    "### Общая гистограмма распределения по потраченному интернету и сообщениям для тарифа Ультра"
   ]
  },
  {
   "cell_type": "code",
   "execution_count": 104,
   "metadata": {},
   "outputs": [
    {
     "data": {
      "image/png": "[encoded data removed]",
      "text/plain": [
       "<Figure size 432x432 with 3 Axes>"
      ]
     },
     "metadata": {
      "needs_background": "light"
     },
     "output_type": "display_data"
    }
   ],
   "source": [
    "sns.jointplot(x='message_date', y='mb_used', data=ultra_person_calls, kind='scatter');"
   ]
  },
  {
   "cell_type": "code",
   "execution_count": 105,
   "metadata": {
    "scrolled": true
   },
   "outputs": [],
   "source": [
    "#ax=ultra_person_calls.hist(column='mb_used',density=True, bins=30)\n",
    "#smart_person_calls.hist(column='mb_used',density=True, bins=30,ax=ax,alpha=0.5)"
   ]
  },
  {
   "cell_type": "markdown",
   "metadata": {},
   "source": [
    "---\n",
    "## Комментарий от наставника\n",
    "\n",
    "Нет выводов из графиков, а они нужны. На самих графиках непонятно, где какой тариф. Стоит подписывать как оси, так и то, что на графике изображено.\n",
    "\n",
    "---"
   ]
  },
  {
   "cell_type": "markdown",
   "metadata": {},
   "source": [
    "<font color=blue> Здорово, что использован seaborn, и изучены некоторые особенные его графики. Хорошая визуализация.\n",
    "    \n",
    "---"
   ]
  },
  {
   "cell_type": "markdown",
   "metadata": {},
   "source": [
    "## Проверка гипотезы"
   ]
  },
  {
   "cell_type": "markdown",
   "metadata": {},
   "source": [
    "Проверка гипотезы: средняя выручка пользователей тарифов «Ультра» и «Смарт» различается;"
   ]
  },
  {
   "cell_type": "markdown",
   "metadata": {},
   "source": [
    "Для проверки гипотез принимаем Нулевую гипотезу, что средняя выручка пользователей тарифов «Ультра» и «Смарт» не различается (равны).\n",
    "Проверка гипотезы альтернативной: среднее значение выручки Ультра меньше предполагаемого(значение Смарт)"
   ]
  },
  {
   "cell_type": "code",
   "execution_count": 106,
   "metadata": {},
   "outputs": [],
   "source": [
    "alpha=0.05 # критический уровень статистической значимости"
   ]
  },
  {
   "cell_type": "code",
   "execution_count": 107,
   "metadata": {},
   "outputs": [],
   "source": [
    "ultra_all=group_all.query('tariff==\"ultra\"')"
   ]
  },
  {
   "cell_type": "code",
   "execution_count": 108,
   "metadata": {},
   "outputs": [],
   "source": [
    "smart_all=group_all.query('tariff==\"smart\"')"
   ]
  },
  {
   "cell_type": "code",
   "execution_count": 109,
   "metadata": {},
   "outputs": [
    {
     "data": {
      "text/plain": [
       "1959.1216216216217"
      ]
     },
     "execution_count": 109,
     "metadata": {},
     "output_type": "execute_result"
    }
   ],
   "source": [
    "ultra_all['money'].mean() # Среднее значение выречки пользователей Ультра"
   ]
  },
  {
   "cell_type": "code",
   "execution_count": 110,
   "metadata": {},
   "outputs": [],
   "source": [
    "disp_ultra=np.var(ultra_all['money'])"
   ]
  },
  {
   "cell_type": "code",
   "execution_count": 112,
   "metadata": {},
   "outputs": [
    {
     "name": "stdout",
     "output_type": "stream",
     "text": [
      "99% значений попадают с интервал:+- 197.0 от среднего значения 1959.0\n"
     ]
    }
   ],
   "source": [
    "print('99% значений попадают с интервал:+-',round(3*np.sqrt(disp_ultra)),'от среднего значения',round(ultra_all['money'].mean())) "
   ]
  },
  {
   "cell_type": "markdown",
   "metadata": {},
   "source": [
    "Считаю доверительный 95% интервал для Ультра"
   ]
  },
  {
   "cell_type": "code",
   "execution_count": 120,
   "metadata": {},
   "outputs": [
    {
     "data": {
      "text/plain": [
       "(1948.4014506466056, 1969.8417925966378)"
      ]
     },
     "execution_count": 120,
     "metadata": {},
     "output_type": "execute_result"
    }
   ],
   "source": [
    "st.t.interval(0.95, len(ultra_all['money'])-1, loc=np.mean(ultra_all['money']), scale=st.sem(ultra_all['money']))"
   ]
  },
  {
   "cell_type": "code",
   "execution_count": 121,
   "metadata": {},
   "outputs": [
    {
     "data": {
      "text/plain": [
       "681.3914285714286"
      ]
     },
     "execution_count": 121,
     "metadata": {},
     "output_type": "execute_result"
    }
   ],
   "source": [
    "smart_all['money'].mean() # Среднее значение выручки пользователей Смарт"
   ]
  },
  {
   "cell_type": "code",
   "execution_count": 122,
   "metadata": {},
   "outputs": [],
   "source": [
    "disp_smart=np.var(smart_all['money'])"
   ]
  },
  {
   "cell_type": "code",
   "execution_count": 123,
   "metadata": {},
   "outputs": [
    {
     "name": "stdout",
     "output_type": "stream",
     "text": [
      "99% значений попадают с интервал:+- 1108.0 от среднего значения 681.0\n"
     ]
    }
   ],
   "source": [
    "print('99% значений попадают с интервал:+-',round(3*np.sqrt(disp_smart)),'от среднего значения',round(smart_all['money'].mean())) "
   ]
  },
  {
   "cell_type": "markdown",
   "metadata": {},
   "source": [
    "### Не понимаю почему такая большая 3 сигма?"
   ]
  },
  {
   "cell_type": "markdown",
   "metadata": {},
   "source": [
    "Считаю доверительный 95% интервал для Смарт"
   ]
  },
  {
   "cell_type": "code",
   "execution_count": 124,
   "metadata": {},
   "outputs": [
    {
     "data": {
      "text/plain": [
       "(642.4929956340956, 720.2898615087616)"
      ]
     },
     "execution_count": 124,
     "metadata": {},
     "output_type": "execute_result"
    }
   ],
   "source": [
    "st.t.interval(0.95, len(smart_all['money'])-1, loc=np.mean(smart_all['money']), scale=st.sem(smart_all['money']))"
   ]
  },
  {
   "cell_type": "markdown",
   "metadata": {},
   "source": [
    "<font color=blue> Уже на основании доверительных интервалов можно сказать, что различия есть.\n",
    "    \n",
    "---"
   ]
  },
  {
   "cell_type": "markdown",
   "metadata": {},
   "source": [
    "---\n",
    "## Комментарий от наставника\n",
    "\n",
    "Приводить выборочные средние значения лучше с доверительными интервалами. Альтернативную гипотезу тоже стоит писать.\n",
    "\n"
   ]
  },
  {
   "cell_type": "markdown",
   "metadata": {},
   "source": [
    "Посчитал доверительный интервал и 3 сигма выше"
   ]
  },
  {
   "cell_type": "code",
   "execution_count": 125,
   "metadata": {},
   "outputs": [
    {
     "data": {
      "text/plain": [
       "136904.800499386"
      ]
     },
     "execution_count": 125,
     "metadata": {},
     "output_type": "execute_result"
    }
   ],
   "source": [
    "smart_all['money'].var() #Дисперсия выручки Смарт"
   ]
  },
  {
   "cell_type": "code",
   "execution_count": 126,
   "metadata": {
    "scrolled": true
   },
   "outputs": [
    {
     "data": {
      "text/plain": [
       "4355.005515719801"
      ]
     },
     "execution_count": 126,
     "metadata": {},
     "output_type": "execute_result"
    }
   ],
   "source": [
    "ultra_all['money'].var() #Дисперсия выручки Смарт"
   ]
  },
  {
   "cell_type": "markdown",
   "metadata": {},
   "source": [
    "Значения дисперсии сильно отличаются. Поэтому в функции st.ttest_ind буду использовать параметр equal_var=False"
   ]
  },
  {
   "cell_type": "code",
   "execution_count": 127,
   "metadata": {},
   "outputs": [],
   "source": [
    "result=st.ttest_ind(smart_all['money'],ultra_all['money'],equal_var=False) "
   ]
  },
  {
   "cell_type": "markdown",
   "metadata": {},
   "source": [
    "Проверяем гипотезу о равенстве двух средних генеральных совокупностей"
   ]
  },
  {
   "cell_type": "code",
   "execution_count": 128,
   "metadata": {},
   "outputs": [
    {
     "data": {
      "text/plain": [
       "2.015340505768868e-207"
      ]
     },
     "execution_count": 128,
     "metadata": {},
     "output_type": "execute_result"
    }
   ],
   "source": [
    "result.pvalue #выведите p-value из результата)"
   ]
  },
  {
   "cell_type": "code",
   "execution_count": 129,
   "metadata": {},
   "outputs": [
    {
     "name": "stdout",
     "output_type": "stream",
     "text": [
      "Отвергаем нулевую гипотезу\n"
     ]
    }
   ],
   "source": [
    "if (result.pvalue<alpha):\n",
    "    print('Отвергаем нулевую гипотезу')\n",
    "else:\n",
    "    print('Не получилость отвергнуть нулевую гипотезу')"
   ]
  },
  {
   "cell_type": "markdown",
   "metadata": {},
   "source": [
    "Для проверки гипотез принимаем Нулевую гипотезу, что средняя выручка пользователей тарифов «Ультра» и «Смарт» не различается (равны)"
   ]
  },
  {
   "cell_type": "markdown",
   "metadata": {},
   "source": [
    "Нулевая гипотеза отвергнута. Значения средней выручки тарифа Ультра и тарифа Смарт различаются.\n",
    "Проверка гипотезы альтернативной: среднее значение выручки Ультра меньше предполагаемого(значение Смарт)"
   ]
  },
  {
   "cell_type": "code",
   "execution_count": 131,
   "metadata": {},
   "outputs": [],
   "source": [
    "interested_value=smart_all['money'].mean() # среднее значение smart. относительно которого проверяем"
   ]
  },
  {
   "cell_type": "code",
   "execution_count": 132,
   "metadata": {},
   "outputs": [],
   "source": [
    "result=st.ttest_1samp(ultra_all['money'],interested_value) "
   ]
  },
  {
   "cell_type": "code",
   "execution_count": 133,
   "metadata": {},
   "outputs": [
    {
     "data": {
      "text/plain": [
       "1.0847243109505274e-191"
      ]
     },
     "execution_count": 133,
     "metadata": {},
     "output_type": "execute_result"
    }
   ],
   "source": [
    "result.pvalue/2 #p-value"
   ]
  },
  {
   "cell_type": "code",
   "execution_count": 134,
   "metadata": {},
   "outputs": [
    {
     "name": "stdout",
     "output_type": "stream",
     "text": [
      "Не получилость отвергнуть нулевую гипотезу\n"
     ]
    }
   ],
   "source": [
    "if (result.pvalue/2<alpha) and (ultra_all['money'].mean()<=interested_value):\n",
    "     print('Отвергаем нулевую гипотезу')\n",
    "else:\n",
    "    print('Не получилость отвергнуть нулевую гипотезу')"
   ]
  },
  {
   "cell_type": "markdown",
   "metadata": {},
   "source": [
    "При проверке односторонней гипотезы \"среднее значение выручки Ультра меньше предполагаемого(значение Смарт)\", отвергли, если выполнелось два условия:\n",
    "- среднее значение выручки Ультра <= предполагаемого(значение Смарт)\n",
    "- разница среднего значения и статистической значимости деленой пополам была существенной"
   ]
  },
  {
   "cell_type": "markdown",
   "metadata": {},
   "source": [
    "Проверка гипотезы: средняя выручка пользователей из Москвы отличается от выручки пользователей из других регионов.\n",
    "Нулевая гипотеза звучит так: средняя выручка пользователей из Москвы не отличается от выручки пользователей из других регионов."
   ]
  },
  {
   "cell_type": "code",
   "execution_count": 135,
   "metadata": {},
   "outputs": [],
   "source": [
    "moscow_all=group_all.query('city==\"Москва\"')"
   ]
  },
  {
   "cell_type": "code",
   "execution_count": 136,
   "metadata": {},
   "outputs": [],
   "source": [
    "other_all=group_all.query('city!=\"Москва\"')"
   ]
  },
  {
   "cell_type": "code",
   "execution_count": 137,
   "metadata": {},
   "outputs": [],
   "source": [
    "alpha=0.05"
   ]
  },
  {
   "cell_type": "code",
   "execution_count": 138,
   "metadata": {},
   "outputs": [
    {
     "data": {
      "text/plain": [
       "440383.3879612451"
      ]
     },
     "execution_count": 138,
     "metadata": {},
     "output_type": "execute_result"
    }
   ],
   "source": [
    "moscow_all['money'].var()"
   ]
  },
  {
   "cell_type": "code",
   "execution_count": 139,
   "metadata": {},
   "outputs": [
    {
     "data": {
      "text/plain": [
       "1083.4141414141413"
      ]
     },
     "execution_count": 139,
     "metadata": {},
     "output_type": "execute_result"
    }
   ],
   "source": [
    "moscow_all['money'].mean()"
   ]
  },
  {
   "cell_type": "code",
   "execution_count": 140,
   "metadata": {},
   "outputs": [
    {
     "data": {
      "text/plain": [
       "439741.2431329581"
      ]
     },
     "execution_count": 140,
     "metadata": {},
     "output_type": "execute_result"
    }
   ],
   "source": [
    "other_all['money'].var()"
   ]
  },
  {
   "cell_type": "code",
   "execution_count": 141,
   "metadata": {},
   "outputs": [
    {
     "data": {
      "text/plain": [
       "1055.5864661654136"
      ]
     },
     "execution_count": 141,
     "metadata": {},
     "output_type": "execute_result"
    }
   ],
   "source": [
    "other_all['money'].mean()"
   ]
  },
  {
   "cell_type": "code",
   "execution_count": 142,
   "metadata": {},
   "outputs": [],
   "source": [
    "result=st.ttest_ind(moscow_all['money'],other_all['money'])"
   ]
  },
  {
   "cell_type": "code",
   "execution_count": 143,
   "metadata": {},
   "outputs": [
    {
     "data": {
      "text/plain": [
       "0.7087987465859309"
      ]
     },
     "execution_count": 143,
     "metadata": {},
     "output_type": "execute_result"
    }
   ],
   "source": [
    "result.pvalue"
   ]
  },
  {
   "cell_type": "code",
   "execution_count": 144,
   "metadata": {},
   "outputs": [
    {
     "name": "stdout",
     "output_type": "stream",
     "text": [
      "Гипотизу отвергнуть не удалось\n"
     ]
    }
   ],
   "source": [
    "if (result.pvalue<alpha):\n",
    "    print('Отвергаем гипотизу')\n",
    "else:\n",
    "    print('Гипотизу отвергнуть не удалось')"
   ]
  },
  {
   "cell_type": "markdown",
   "metadata": {},
   "source": [
    "Гипотезу отвергаем. Средняя выручка в Москве отличается от средней выручки в регионах."
   ]
  },
  {
   "cell_type": "markdown",
   "metadata": {},
   "source": [
    "Общий вывод: самый популярный тариф оказался Сматр. Он приносит больше всего денег. Пользователи обычно не выходят за рамки выбранного тарифа. Средняя выручка по тарифу Смарт 1958 руб, а по тарифу Ультра 683 руб. Сравния средние генеральных выборок тарифа Ультра и тарифа Смарт можно сказать, что они отличаются. В Москве средняя прибыль 1085. Для дальнейшей корректировки рекламного бюджета я бы в Москве и других больших города продвигал тариф Ультра, в других регионах больше бы двигал тариф Смарт."
   ]
  },
  {
   "cell_type": "markdown",
   "metadata": {},
   "source": [
    "---\n",
    "## Комментарий от наставника\n",
    "\n",
    "Вывод неверный. Смарт приносит меньше выручки для компании. Если бы пользователи не выходили бы за лимиты, то выручка в среднем от Смарт была бы 550 рублей - стоимость ежемесячной платы, но она у нас 683 рубля - на четверь больше. Сравнивать точечные оценки выборки - не самый хороший способ, нужны доверительные интервалы. По дальнейшему продвижению тарифов стоит расписать свое мнение подробнее, почему стоит делать именно так.\n",
    "\n",
    "---"
   ]
  },
  {
   "cell_type": "markdown",
   "metadata": {},
   "source": [
    "Общий вывод:\n",
    "самый популярный тариф оказался Смарт. Но самый прибылный тариф- Ультра. Доверительный интервал для тарифа ультра прибыли сосатвляет 1948-1969 руб, а доверительный интервал для тарифа Смарт 642-720 руб. "
   ]
  },
  {
   "cell_type": "markdown",
   "metadata": {},
   "source": [
    "<font color=blue> Работа стала лучше, теперь сделана хорошо. Все помарки исправлены, молодец. Успехов в дальнейших проектах :)\n",
    "    \n",
    "---"
   ]
  },
  {
   "cell_type": "markdown",
   "metadata": {},
   "source": [
    "## Комментарий от наставника\n",
    "\n",
    "- В начале работы стоит делать вступление;\n",
    "- Делай больше комментариев по работе. Гипотезы, наблюдения, выводы - это большая часть работы аналитика;\n",
    "- Если еще не встречался с библиотекой seaborn, то изучи ее. Можно строить презентабельные графики с ее помощью;\n",
    "- Улучши работу с графиками;\n",
    "- Изучи, как можно построить доверительный интревал для выборочного среднего.\n",
    "\n",
    "Ты проделал большую работу, молодец! Исправь выводы и получится довольно хорошая работа :)\n",
    "\n",
    "-----"
   ]
  }
 ],
 "metadata": {
  "kernelspec": {
   "display_name": "Python 3",
   "language": "python",
   "name": "python3"
  },
  "language_info": {
   "codemirror_mode": {
    "name": "ipython",
    "version": 3
   },
   "file_extension": ".py",
   "mimetype": "text/x-python",
   "name": "python",
   "nbconvert_exporter": "python",
   "pygments_lexer": "ipython3",
   "version": "3.7.4"
  }
 },
 "nbformat": 4,
 "nbformat_minor": 2
}
